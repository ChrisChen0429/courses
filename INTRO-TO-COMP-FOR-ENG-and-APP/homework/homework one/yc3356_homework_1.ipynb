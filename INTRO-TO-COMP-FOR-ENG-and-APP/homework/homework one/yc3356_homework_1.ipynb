{
 "cells": [
  {
   "cell_type": "markdown",
   "metadata": {},
   "source": [
    "# Homework 1: My First Python Program\n",
    " **Name: _Yi Chen_** and **UNI:_yc3356_**"
   ]
  },
  {
   "cell_type": "code",
   "execution_count": 23,
   "metadata": {},
   "outputs": [
    {
     "name": "stdout",
     "output_type": "stream",
     "text": [
      "Got value error =  could not convert string to float: 'a'\n",
      "Either  a or yellow was not a duck.\n"
     ]
    }
   ],
   "source": [
    "import matplotlib.pyplot as plt\n",
    "try:\n",
    "    x,y = 1.1, 3\n",
    "    plt.plot(x,y,\"ro\")\n",
    "    x,y = 3.2, 5\n",
    "    plt.plot(x,y,\"ro\")\n",
    "    x,y = 'a','yellow'\n",
    "    plt.plot(x,y,\"ro\")\n",
    "    plt.show()\n",
    "except ValueError as ve:\n",
    "    print(\"Got value error = \",ve)\n",
    "finally:\n",
    "    print(\"Either \",x,\"or\",y,\"was not a duck.\")"
   ]
  },
  {
   "cell_type": "markdown",
   "metadata": {},
   "source": [
    "## Part A"
   ]
  },
  {
   "cell_type": "markdown",
   "metadata": {},
   "source": [
    "### 7. Click on the first cell, click on the pulldown where you see \"Code\" and change to \"Markdown.\""
   ]
  },
  {
   "cell_type": "markdown",
   "metadata": {},
   "source": [
    "## My First Header\n",
    "- My first list item\n",
    "- Second list item"
   ]
  },
  {
   "cell_type": "markdown",
   "metadata": {
    "collapsed": true
   },
   "source": [
    "### 8. Select the code cell. Copy the content from circle.pyPreview the documentView in a new window into the code cell. "
   ]
  },
  {
   "cell_type": "code",
   "execution_count": 1,
   "metadata": {},
   "outputs": [
    {
     "name": "stdout",
     "output_type": "stream",
     "text": [
      "Enter the radius of a circle: 231\n",
      "You entered  231  which is of type  <class 'str'>\n",
      "The cirumference is: 1451.4158059584845 , and the area is: 167638.52558820494\n"
     ]
    }
   ],
   "source": [
    "# This program allows a user to input the radius on a circle.\n",
    "# We want to teach the formula to young children. So, we only\n",
    "# allow the radius to be an integer.\n",
    "\n",
    "# Almost every program you write will use \"programs\" others have written.\n",
    "# Your successful programs will become programs that others use.\n",
    "# Any non-trivial program requires a team. The team members assemble\n",
    "# the solution from individual subcomponents they build.\n",
    "# The subcomponents and reusable parts are called modules.\n",
    "\n",
    "import math     # We just imported our first module.\n",
    "\n",
    "# Programs, like mathematical functions, are only useful if they\n",
    "# operate on many user provided inputs. To start, we will get the input from\n",
    "# the \"command line.\"\n",
    "\n",
    "# Print a prompt asking for the radius.\n",
    "# Set a variable to the input value.\n",
    "radius_str = input('Enter the radius of a circle: ')\n",
    "\n",
    "# Let's double check that we got the input.\n",
    "print(\"You entered \", radius_str, \" which is of type \", type(radius_str))\n",
    "\n",
    "# We are going to do 'math' on the input. So, we should\n",
    "# covert it to an Integer.\n",
    "radius_int = int(radius_str)\n",
    "\n",
    "# The circumfrence is 2 times pi time the radius.\n",
    "# The area is pi * r squared.\n",
    "circumference = 2 * math.pi * radius_int\n",
    "area = math.pi * (radius_int ** 2)\n",
    "\n",
    "# Python conventions do not like lines that are too long.\n",
    "# \\ means that we will continue the command on the next line.\n",
    "print (\"The cirumference is:\",circumference,  \\\n",
    "      \", and the area is:\",area)"
   ]
  },
  {
   "cell_type": "markdown",
   "metadata": {},
   "source": [
    "## Part A"
   ]
  },
  {
   "cell_type": "markdown",
   "metadata": {},
   "source": [
    "### 1. write a program to produce my UNI"
   ]
  },
  {
   "cell_type": "code",
   "execution_count": 2,
   "metadata": {},
   "outputs": [
    {
     "name": "stdout",
     "output_type": "stream",
     "text": [
      "please input your last name~chen\n",
      "please input your first name~yi\n",
      "input your middle name please, if you don't have middle name just input enter\n"
     ]
    }
   ],
   "source": [
    "# assign my name\n",
    "last_name = 'chen' \n",
    "first_name = 'yi'\n",
    "middle_name = '' ## I have no middle name, so I name it to an empty string\n",
    "\n",
    "# actually this can be done in a more interactive way\n",
    "last_name = input(\"please input your last name~\")\n",
    "frist_name = input(\"please input your first name~\")\n",
    "middle_name = input(\"input your middle name please, if you don't have middle name just input enter\")"
   ]
  },
  {
   "cell_type": "code",
   "execution_count": 7,
   "metadata": {},
   "outputs": [
    {
     "name": "stdout",
     "output_type": "stream",
     "text": [
      "yc\n",
      "yc\n"
     ]
    }
   ],
   "source": [
    "# create uni_prefix\n",
    "if middle_name == '':\n",
    "    UNI_prefix = first_name[0] + last_name[0]\n",
    "else:\n",
    "    UNI_prefix = first_name[0] + middle_name[0] + last_name[0]\n",
    "\n",
    "print(UNI_prefix)\n",
    "\n",
    "# Actually since middle name here is also a string I can conbime these directly without \"if\"\n",
    "UNI_prefix = first_name[0] + middle_name + last_name[0]\n",
    "print(UNI_prefix)"
   ]
  },
  {
   "cell_type": "code",
   "execution_count": 8,
   "metadata": {
    "collapsed": true
   },
   "outputs": [],
   "source": [
    "# create uni_suffix\n",
    "UNI_suffix = 3356"
   ]
  },
  {
   "cell_type": "code",
   "execution_count": 10,
   "metadata": {},
   "outputs": [
    {
     "name": "stdout",
     "output_type": "stream",
     "text": [
      "yc3356\n"
     ]
    }
   ],
   "source": [
    "# create uni\n",
    "UNI = UNI_prefix + str(UNI_suffix) \n",
    "# since uni is string we need to change the type of uni_suffix into string to combine\n",
    "\n",
    "print(UNI)"
   ]
  },
  {
   "cell_type": "code",
   "execution_count": 11,
   "metadata": {},
   "outputs": [
    {
     "name": "stdout",
     "output_type": "stream",
     "text": [
      "YC3356\n",
      "yc3356\n"
     ]
    }
   ],
   "source": [
    "# uppercase \n",
    "UNI = UNI.upper()\n",
    "print(UNI)\n",
    "\n",
    "#lowercase \n",
    "UNI = UNI.lower()\n",
    "print(UNI)\n"
   ]
  },
  {
   "cell_type": "markdown",
   "metadata": {},
   "source": [
    "### 2. Continue entering Python statements. "
   ]
  },
  {
   "cell_type": "code",
   "execution_count": 12,
   "metadata": {},
   "outputs": [
    {
     "name": "stdout",
     "output_type": "stream",
     "text": [
      "['yi', '', 'chen', 'yc3356']\n"
     ]
    }
   ],
   "source": [
    "# Create a list that contains your first name, \n",
    "# middle name, last name and UNI\n",
    "my_list = [first_name,middle_name,last_name,UNI]\n",
    "print(my_list)"
   ]
  },
  {
   "cell_type": "code",
   "execution_count": 15,
   "metadata": {},
   "outputs": [
    {
     "name": "stdout",
     "output_type": "stream",
     "text": [
      "['yi', 'chen', 'yc3356']\n",
      "['yi', 'chen', 'yc3356']\n"
     ]
    }
   ],
   "source": [
    "# remove the middle name\n",
    "## method one\n",
    "my_list = [first_name,middle_name,last_name,UNI]\n",
    "del my_list[1]\n",
    "print(my_list)\n",
    "\n",
    "# method two \n",
    "my_list = [first_name,middle_name,last_name,UNI]\n",
    "my_list.remove('')\n",
    "print(my_list)"
   ]
  },
  {
   "cell_type": "code",
   "execution_count": 17,
   "metadata": {},
   "outputs": [
    {
     "name": "stdout",
     "output_type": "stream",
     "text": [
      "['yc3356', 'yi', '', 'chen']\n",
      "['yc3356', 'yi', '', 'chen']\n"
     ]
    }
   ],
   "source": [
    "# move the uni to the first element in the list\n",
    "# method one\n",
    "my_list = [first_name,middle_name,last_name,UNI]\n",
    "my_list.insert(0,my_list[-1]) # insert the last element in the first place\n",
    "del my_list[-1] #delect the last element\n",
    "print(my_list)\n",
    "\n",
    "# method two\n",
    "my_list = [first_name,middle_name,last_name,UNI]\n",
    "my_list.insert(0,my_list.pop(-1)) \n",
    "# use the pop method to delect the element in the list and return that element\n",
    "print(my_list)\n"
   ]
  }
 ],
 "metadata": {
  "kernelspec": {
   "display_name": "Python 3",
   "language": "python",
   "name": "python3"
  },
  "language_info": {
   "codemirror_mode": {
    "name": "ipython",
    "version": 3
   },
   "file_extension": ".py",
   "mimetype": "text/x-python",
   "name": "python",
   "nbconvert_exporter": "python",
   "pygments_lexer": "ipython3",
   "version": "3.6.1"
  }
 },
 "nbformat": 4,
 "nbformat_minor": 2
}
