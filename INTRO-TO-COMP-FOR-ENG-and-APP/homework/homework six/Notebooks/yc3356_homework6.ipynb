{
 "cells": [
  {
   "cell_type": "markdown",
   "metadata": {},
   "source": [
    "# Homework 6  $-$ Play with Machine Learning"
   ]
  },
  {
   "cell_type": "markdown",
   "metadata": {},
   "source": [
    "## Definition\n",
    "\n",
    "This homework is extremely simple.\n",
    "<br>\n",
    "1. Run this Notebook.\n",
    "2. Create two new perceptrons in the code section. Change parameters and see if you can produce a better estimate. You should create the perceptrons, compute the errors and plot the scatter plot. This is literally just cut, paste and modify code."
   ]
  },
  {
   "cell_type": "markdown",
   "metadata": {},
   "source": [
    "## Moneyball Formal Definition Continued\n"
   ]
  },
  {
   "cell_type": "markdown",
   "metadata": {},
   "source": [
    "### Formal Definition\n",
    "\n",
    "- A vector of metrics $\\vec{x} = (x_1, x_2, ..., x_n)$ summarizes a team's performance capabilities, e.g. batting average, HRs, etc.\n",
    "\n",
    "\n",
    "- A similar vector $\\vec{p} = (p_1, p_2, ..., p_n)$ summarizes the performance of an a player with respect to the metrics. $T.$\n",
    "\n",
    "\n",
    "- Let $i$ be the subscript notation for the i-th metric. If $f_i$ is some aggregation function, e.g. sum, average, then\n",
    "\n",
    "\\begin{equation}\n",
    "x_i = f_i(p_i), \\forall p \\in T.\n",
    "\\end{equation}\n",
    "\n",
    "\n",
    "- $S(p)$ can denote player $p$'s salary. This yields two constraints\n",
    "    - C1: $ \\#(T) \\leq 25$ (approximating the maximum number of allowed players per team)\n",
    "    - C2: $\\sum_{p \\in T}{S(p)} \\leq B(T),$ team $T$ budget.\n",
    "    \n",
    "    \n",
    "- If\n",
    "    - $W(\\vec{x})$ is the number of wins per season as a function of $\\vec{x} \\in X.$\n",
    "    - $P(\\vec{x}) \\rightarrow [0,1]$ is the probability of winning the World Series for $\\vec{x} \\in X.$\n",
    "    \n",
    "    \n",
    "- We want to pick the team of players $T$ such that we \n",
    "    - $Max(W(\\vec{x}))$ or $Max(P(\\vec{x}))$\n",
    "    - With minimal $\\sum{S(p)}$\n",
    "    - Subject to C1 and C2.\n",
    "    \n",
    "    \n",
    "- This boils down to two tasks:\n",
    "    1. _Learning_ the relationship between $\\vec{x}$ and wins (or winning world series).\n",
    "    1. Finding the price-optimal set of players. \n",
    "    \n",
    "    \n",
    "- We are trying to build an artificial intelligence engine that replaces general managers for picking players.\n",
    "\n",
    "\n",
    "- The first step is to figure out, or __learn__, $W(\\vec{x}).$"
   ]
  },
  {
   "cell_type": "markdown",
   "metadata": {},
   "source": [
    "### Estimate Wins from Performance\n",
    "\n",
    "#### Recreate the Training Data from Last Lecture"
   ]
  },
  {
   "cell_type": "markdown",
   "metadata": {},
   "source": [
    "<u>Load the team data.</u>"
   ]
  },
  {
   "cell_type": "code",
   "execution_count": 2,
   "metadata": {},
   "outputs": [
    {
     "data": {
      "text/html": [
       "<div>\n",
       "<style scoped>\n",
       "    .dataframe tbody tr th:only-of-type {\n",
       "        vertical-align: middle;\n",
       "    }\n",
       "\n",
       "    .dataframe tbody tr th {\n",
       "        vertical-align: top;\n",
       "    }\n",
       "\n",
       "    .dataframe thead th {\n",
       "        text-align: right;\n",
       "    }\n",
       "</style>\n",
       "<table border=\"1\" class=\"dataframe\">\n",
       "  <thead>\n",
       "    <tr style=\"text-align: right;\">\n",
       "      <th></th>\n",
       "      <th>year</th>\n",
       "      <th>teamid</th>\n",
       "      <th>rank</th>\n",
       "      <th>games</th>\n",
       "      <th>wins</th>\n",
       "      <th>loses</th>\n",
       "      <th>WSWin</th>\n",
       "      <th>runs</th>\n",
       "      <th>at_basts</th>\n",
       "      <th>hits</th>\n",
       "      <th>...</th>\n",
       "      <th>walks</th>\n",
       "      <th>strikeouts</th>\n",
       "      <th>stolen_bases</th>\n",
       "      <th>caught_stealing</th>\n",
       "      <th>sacrifice_flies</th>\n",
       "      <th>runs_against</th>\n",
       "      <th>earned_runs</th>\n",
       "      <th>earned_run_average</th>\n",
       "      <th>errors</th>\n",
       "      <th>fielding_percentage</th>\n",
       "    </tr>\n",
       "  </thead>\n",
       "  <tbody>\n",
       "    <tr>\n",
       "      <th>908</th>\n",
       "      <td>2016</td>\n",
       "      <td>PHI</td>\n",
       "      <td>4</td>\n",
       "      <td>162</td>\n",
       "      <td>71</td>\n",
       "      <td>91</td>\n",
       "      <td>N</td>\n",
       "      <td>610</td>\n",
       "      <td>5434</td>\n",
       "      <td>1305</td>\n",
       "      <td>...</td>\n",
       "      <td>424</td>\n",
       "      <td>1376</td>\n",
       "      <td>96</td>\n",
       "      <td>45</td>\n",
       "      <td>30.0</td>\n",
       "      <td>796</td>\n",
       "      <td>739</td>\n",
       "      <td>4.63</td>\n",
       "      <td>97</td>\n",
       "      <td>0.984</td>\n",
       "    </tr>\n",
       "    <tr>\n",
       "      <th>909</th>\n",
       "      <td>2016</td>\n",
       "      <td>PIT</td>\n",
       "      <td>3</td>\n",
       "      <td>162</td>\n",
       "      <td>78</td>\n",
       "      <td>83</td>\n",
       "      <td>N</td>\n",
       "      <td>729</td>\n",
       "      <td>5542</td>\n",
       "      <td>1426</td>\n",
       "      <td>...</td>\n",
       "      <td>561</td>\n",
       "      <td>1334</td>\n",
       "      <td>110</td>\n",
       "      <td>45</td>\n",
       "      <td>36.0</td>\n",
       "      <td>758</td>\n",
       "      <td>679</td>\n",
       "      <td>4.21</td>\n",
       "      <td>111</td>\n",
       "      <td>0.982</td>\n",
       "    </tr>\n",
       "    <tr>\n",
       "      <th>910</th>\n",
       "      <td>2016</td>\n",
       "      <td>SDN</td>\n",
       "      <td>5</td>\n",
       "      <td>162</td>\n",
       "      <td>68</td>\n",
       "      <td>94</td>\n",
       "      <td>N</td>\n",
       "      <td>686</td>\n",
       "      <td>5419</td>\n",
       "      <td>1275</td>\n",
       "      <td>...</td>\n",
       "      <td>449</td>\n",
       "      <td>1500</td>\n",
       "      <td>125</td>\n",
       "      <td>45</td>\n",
       "      <td>36.0</td>\n",
       "      <td>770</td>\n",
       "      <td>708</td>\n",
       "      <td>4.43</td>\n",
       "      <td>109</td>\n",
       "      <td>0.982</td>\n",
       "    </tr>\n",
       "    <tr>\n",
       "      <th>911</th>\n",
       "      <td>2016</td>\n",
       "      <td>SEA</td>\n",
       "      <td>2</td>\n",
       "      <td>162</td>\n",
       "      <td>86</td>\n",
       "      <td>76</td>\n",
       "      <td>N</td>\n",
       "      <td>768</td>\n",
       "      <td>5583</td>\n",
       "      <td>1446</td>\n",
       "      <td>...</td>\n",
       "      <td>506</td>\n",
       "      <td>1288</td>\n",
       "      <td>56</td>\n",
       "      <td>28</td>\n",
       "      <td>41.0</td>\n",
       "      <td>707</td>\n",
       "      <td>647</td>\n",
       "      <td>4.00</td>\n",
       "      <td>89</td>\n",
       "      <td>0.985</td>\n",
       "    </tr>\n",
       "    <tr>\n",
       "      <th>912</th>\n",
       "      <td>2016</td>\n",
       "      <td>SFN</td>\n",
       "      <td>2</td>\n",
       "      <td>162</td>\n",
       "      <td>87</td>\n",
       "      <td>75</td>\n",
       "      <td>N</td>\n",
       "      <td>715</td>\n",
       "      <td>5565</td>\n",
       "      <td>1437</td>\n",
       "      <td>...</td>\n",
       "      <td>572</td>\n",
       "      <td>1107</td>\n",
       "      <td>79</td>\n",
       "      <td>36</td>\n",
       "      <td>46.0</td>\n",
       "      <td>631</td>\n",
       "      <td>593</td>\n",
       "      <td>3.65</td>\n",
       "      <td>72</td>\n",
       "      <td>0.988</td>\n",
       "    </tr>\n",
       "    <tr>\n",
       "      <th>913</th>\n",
       "      <td>2016</td>\n",
       "      <td>SLN</td>\n",
       "      <td>2</td>\n",
       "      <td>162</td>\n",
       "      <td>86</td>\n",
       "      <td>76</td>\n",
       "      <td>N</td>\n",
       "      <td>779</td>\n",
       "      <td>5548</td>\n",
       "      <td>1415</td>\n",
       "      <td>...</td>\n",
       "      <td>526</td>\n",
       "      <td>1318</td>\n",
       "      <td>35</td>\n",
       "      <td>26</td>\n",
       "      <td>41.0</td>\n",
       "      <td>712</td>\n",
       "      <td>656</td>\n",
       "      <td>4.08</td>\n",
       "      <td>107</td>\n",
       "      <td>0.983</td>\n",
       "    </tr>\n",
       "    <tr>\n",
       "      <th>914</th>\n",
       "      <td>2016</td>\n",
       "      <td>TBA</td>\n",
       "      <td>5</td>\n",
       "      <td>162</td>\n",
       "      <td>68</td>\n",
       "      <td>94</td>\n",
       "      <td>N</td>\n",
       "      <td>672</td>\n",
       "      <td>5481</td>\n",
       "      <td>1333</td>\n",
       "      <td>...</td>\n",
       "      <td>449</td>\n",
       "      <td>1482</td>\n",
       "      <td>60</td>\n",
       "      <td>37</td>\n",
       "      <td>28.0</td>\n",
       "      <td>713</td>\n",
       "      <td>665</td>\n",
       "      <td>4.20</td>\n",
       "      <td>94</td>\n",
       "      <td>0.984</td>\n",
       "    </tr>\n",
       "    <tr>\n",
       "      <th>915</th>\n",
       "      <td>2016</td>\n",
       "      <td>TEX</td>\n",
       "      <td>1</td>\n",
       "      <td>162</td>\n",
       "      <td>95</td>\n",
       "      <td>67</td>\n",
       "      <td>N</td>\n",
       "      <td>765</td>\n",
       "      <td>5525</td>\n",
       "      <td>1446</td>\n",
       "      <td>...</td>\n",
       "      <td>436</td>\n",
       "      <td>1220</td>\n",
       "      <td>99</td>\n",
       "      <td>36</td>\n",
       "      <td>40.0</td>\n",
       "      <td>757</td>\n",
       "      <td>700</td>\n",
       "      <td>4.37</td>\n",
       "      <td>97</td>\n",
       "      <td>0.984</td>\n",
       "    </tr>\n",
       "    <tr>\n",
       "      <th>916</th>\n",
       "      <td>2016</td>\n",
       "      <td>TOR</td>\n",
       "      <td>2</td>\n",
       "      <td>162</td>\n",
       "      <td>89</td>\n",
       "      <td>73</td>\n",
       "      <td>N</td>\n",
       "      <td>759</td>\n",
       "      <td>5479</td>\n",
       "      <td>1358</td>\n",
       "      <td>...</td>\n",
       "      <td>632</td>\n",
       "      <td>1362</td>\n",
       "      <td>54</td>\n",
       "      <td>24</td>\n",
       "      <td>40.0</td>\n",
       "      <td>666</td>\n",
       "      <td>613</td>\n",
       "      <td>3.78</td>\n",
       "      <td>88</td>\n",
       "      <td>0.986</td>\n",
       "    </tr>\n",
       "    <tr>\n",
       "      <th>917</th>\n",
       "      <td>2016</td>\n",
       "      <td>WAS</td>\n",
       "      <td>1</td>\n",
       "      <td>162</td>\n",
       "      <td>95</td>\n",
       "      <td>67</td>\n",
       "      <td>N</td>\n",
       "      <td>763</td>\n",
       "      <td>5490</td>\n",
       "      <td>1403</td>\n",
       "      <td>...</td>\n",
       "      <td>536</td>\n",
       "      <td>1252</td>\n",
       "      <td>121</td>\n",
       "      <td>39</td>\n",
       "      <td>63.0</td>\n",
       "      <td>612</td>\n",
       "      <td>570</td>\n",
       "      <td>3.51</td>\n",
       "      <td>73</td>\n",
       "      <td>0.988</td>\n",
       "    </tr>\n",
       "  </tbody>\n",
       "</table>\n",
       "<p>10 rows × 23 columns</p>\n",
       "</div>"
      ],
      "text/plain": [
       "     year teamid  rank  games  wins  loses WSWin  runs  at_basts  hits  \\\n",
       "908  2016    PHI     4    162    71     91     N   610      5434  1305   \n",
       "909  2016    PIT     3    162    78     83     N   729      5542  1426   \n",
       "910  2016    SDN     5    162    68     94     N   686      5419  1275   \n",
       "911  2016    SEA     2    162    86     76     N   768      5583  1446   \n",
       "912  2016    SFN     2    162    87     75     N   715      5565  1437   \n",
       "913  2016    SLN     2    162    86     76     N   779      5548  1415   \n",
       "914  2016    TBA     5    162    68     94     N   672      5481  1333   \n",
       "915  2016    TEX     1    162    95     67     N   765      5525  1446   \n",
       "916  2016    TOR     2    162    89     73     N   759      5479  1358   \n",
       "917  2016    WAS     1    162    95     67     N   763      5490  1403   \n",
       "\n",
       "            ...           walks  strikeouts  stolen_bases  caught_stealing  \\\n",
       "908         ...             424        1376            96               45   \n",
       "909         ...             561        1334           110               45   \n",
       "910         ...             449        1500           125               45   \n",
       "911         ...             506        1288            56               28   \n",
       "912         ...             572        1107            79               36   \n",
       "913         ...             526        1318            35               26   \n",
       "914         ...             449        1482            60               37   \n",
       "915         ...             436        1220            99               36   \n",
       "916         ...             632        1362            54               24   \n",
       "917         ...             536        1252           121               39   \n",
       "\n",
       "     sacrifice_flies  runs_against  earned_runs  earned_run_average  errors  \\\n",
       "908             30.0           796          739                4.63      97   \n",
       "909             36.0           758          679                4.21     111   \n",
       "910             36.0           770          708                4.43     109   \n",
       "911             41.0           707          647                4.00      89   \n",
       "912             46.0           631          593                3.65      72   \n",
       "913             41.0           712          656                4.08     107   \n",
       "914             28.0           713          665                4.20      94   \n",
       "915             40.0           757          700                4.37      97   \n",
       "916             40.0           666          613                3.78      88   \n",
       "917             63.0           612          570                3.51      73   \n",
       "\n",
       "     fielding_percentage  \n",
       "908                0.984  \n",
       "909                0.982  \n",
       "910                0.982  \n",
       "911                0.985  \n",
       "912                0.988  \n",
       "913                0.983  \n",
       "914                0.984  \n",
       "915                0.984  \n",
       "916                0.986  \n",
       "917                0.988  \n",
       "\n",
       "[10 rows x 23 columns]"
      ]
     },
     "execution_count": 2,
     "metadata": {},
     "output_type": "execute_result"
    }
   ],
   "source": [
    "import pandas as pd\n",
    "\n",
    "team_df = pd.read_csv(\"../Data/teaminfo.csv\")\n",
    "team_df.tail(10)"
   ]
  },
  {
   "cell_type": "markdown",
   "metadata": {},
   "source": [
    "- Use _projection_ to get the columns we decided to use."
   ]
  },
  {
   "cell_type": "code",
   "execution_count": 3,
   "metadata": {},
   "outputs": [
    {
     "data": {
      "text/plain": [
       "Index(['year', 'teamid', 'rank', 'games', 'wins', 'loses', 'WSWin', 'runs',\n",
       "       'at_basts', 'hits', 'doubles', 'triples', 'home_runs', 'walks',\n",
       "       'strikeouts', 'stolen_bases', 'caught_stealing', 'sacrifice_flies',\n",
       "       'runs_against', 'earned_runs', 'earned_run_average', 'errors',\n",
       "       'fielding_percentage'],\n",
       "      dtype='object')"
      ]
     },
     "execution_count": 3,
     "metadata": {},
     "output_type": "execute_result"
    }
   ],
   "source": [
    "team_df.columns"
   ]
  },
  {
   "cell_type": "code",
   "execution_count": 4,
   "metadata": {},
   "outputs": [
    {
     "data": {
      "text/html": [
       "<div>\n",
       "<style scoped>\n",
       "    .dataframe tbody tr th:only-of-type {\n",
       "        vertical-align: middle;\n",
       "    }\n",
       "\n",
       "    .dataframe tbody tr th {\n",
       "        vertical-align: top;\n",
       "    }\n",
       "\n",
       "    .dataframe thead th {\n",
       "        text-align: right;\n",
       "    }\n",
       "</style>\n",
       "<table border=\"1\" class=\"dataframe\">\n",
       "  <thead>\n",
       "    <tr style=\"text-align: right;\">\n",
       "      <th></th>\n",
       "      <th>wins</th>\n",
       "      <th>at_basts</th>\n",
       "      <th>hits</th>\n",
       "      <th>doubles</th>\n",
       "      <th>triples</th>\n",
       "      <th>home_runs</th>\n",
       "      <th>walks</th>\n",
       "      <th>earned_run_average</th>\n",
       "      <th>fielding_percentage</th>\n",
       "    </tr>\n",
       "  </thead>\n",
       "  <tbody>\n",
       "    <tr>\n",
       "      <th>908</th>\n",
       "      <td>71</td>\n",
       "      <td>5434</td>\n",
       "      <td>1305</td>\n",
       "      <td>231</td>\n",
       "      <td>35</td>\n",
       "      <td>161</td>\n",
       "      <td>424</td>\n",
       "      <td>4.63</td>\n",
       "      <td>0.984</td>\n",
       "    </tr>\n",
       "    <tr>\n",
       "      <th>909</th>\n",
       "      <td>78</td>\n",
       "      <td>5542</td>\n",
       "      <td>1426</td>\n",
       "      <td>277</td>\n",
       "      <td>32</td>\n",
       "      <td>153</td>\n",
       "      <td>561</td>\n",
       "      <td>4.21</td>\n",
       "      <td>0.982</td>\n",
       "    </tr>\n",
       "    <tr>\n",
       "      <th>910</th>\n",
       "      <td>68</td>\n",
       "      <td>5419</td>\n",
       "      <td>1275</td>\n",
       "      <td>257</td>\n",
       "      <td>26</td>\n",
       "      <td>177</td>\n",
       "      <td>449</td>\n",
       "      <td>4.43</td>\n",
       "      <td>0.982</td>\n",
       "    </tr>\n",
       "    <tr>\n",
       "      <th>911</th>\n",
       "      <td>86</td>\n",
       "      <td>5583</td>\n",
       "      <td>1446</td>\n",
       "      <td>251</td>\n",
       "      <td>17</td>\n",
       "      <td>223</td>\n",
       "      <td>506</td>\n",
       "      <td>4.00</td>\n",
       "      <td>0.985</td>\n",
       "    </tr>\n",
       "    <tr>\n",
       "      <th>912</th>\n",
       "      <td>87</td>\n",
       "      <td>5565</td>\n",
       "      <td>1437</td>\n",
       "      <td>280</td>\n",
       "      <td>54</td>\n",
       "      <td>130</td>\n",
       "      <td>572</td>\n",
       "      <td>3.65</td>\n",
       "      <td>0.988</td>\n",
       "    </tr>\n",
       "    <tr>\n",
       "      <th>913</th>\n",
       "      <td>86</td>\n",
       "      <td>5548</td>\n",
       "      <td>1415</td>\n",
       "      <td>299</td>\n",
       "      <td>32</td>\n",
       "      <td>225</td>\n",
       "      <td>526</td>\n",
       "      <td>4.08</td>\n",
       "      <td>0.983</td>\n",
       "    </tr>\n",
       "    <tr>\n",
       "      <th>914</th>\n",
       "      <td>68</td>\n",
       "      <td>5481</td>\n",
       "      <td>1333</td>\n",
       "      <td>288</td>\n",
       "      <td>32</td>\n",
       "      <td>216</td>\n",
       "      <td>449</td>\n",
       "      <td>4.20</td>\n",
       "      <td>0.984</td>\n",
       "    </tr>\n",
       "    <tr>\n",
       "      <th>915</th>\n",
       "      <td>95</td>\n",
       "      <td>5525</td>\n",
       "      <td>1446</td>\n",
       "      <td>257</td>\n",
       "      <td>23</td>\n",
       "      <td>215</td>\n",
       "      <td>436</td>\n",
       "      <td>4.37</td>\n",
       "      <td>0.984</td>\n",
       "    </tr>\n",
       "    <tr>\n",
       "      <th>916</th>\n",
       "      <td>89</td>\n",
       "      <td>5479</td>\n",
       "      <td>1358</td>\n",
       "      <td>276</td>\n",
       "      <td>18</td>\n",
       "      <td>221</td>\n",
       "      <td>632</td>\n",
       "      <td>3.78</td>\n",
       "      <td>0.986</td>\n",
       "    </tr>\n",
       "    <tr>\n",
       "      <th>917</th>\n",
       "      <td>95</td>\n",
       "      <td>5490</td>\n",
       "      <td>1403</td>\n",
       "      <td>268</td>\n",
       "      <td>29</td>\n",
       "      <td>203</td>\n",
       "      <td>536</td>\n",
       "      <td>3.51</td>\n",
       "      <td>0.988</td>\n",
       "    </tr>\n",
       "  </tbody>\n",
       "</table>\n",
       "</div>"
      ],
      "text/plain": [
       "     wins  at_basts  hits  doubles  triples  home_runs  walks  \\\n",
       "908    71      5434  1305      231       35        161    424   \n",
       "909    78      5542  1426      277       32        153    561   \n",
       "910    68      5419  1275      257       26        177    449   \n",
       "911    86      5583  1446      251       17        223    506   \n",
       "912    87      5565  1437      280       54        130    572   \n",
       "913    86      5548  1415      299       32        225    526   \n",
       "914    68      5481  1333      288       32        216    449   \n",
       "915    95      5525  1446      257       23        215    436   \n",
       "916    89      5479  1358      276       18        221    632   \n",
       "917    95      5490  1403      268       29        203    536   \n",
       "\n",
       "     earned_run_average  fielding_percentage  \n",
       "908                4.63                0.984  \n",
       "909                4.21                0.982  \n",
       "910                4.43                0.982  \n",
       "911                4.00                0.985  \n",
       "912                3.65                0.988  \n",
       "913                4.08                0.983  \n",
       "914                4.20                0.984  \n",
       "915                4.37                0.984  \n",
       "916                3.78                0.986  \n",
       "917                3.51                0.988  "
      ]
     },
     "execution_count": 4,
     "metadata": {},
     "output_type": "execute_result"
    }
   ],
   "source": [
    "training_data_df = team_df[['wins', 'at_basts', 'hits', 'doubles', 'triples', 'home_runs', \\\n",
    "                            'walks', 'earned_run_average', 'fielding_percentage']].copy()\n",
    "training_data_df.tail(10)"
   ]
  },
  {
   "cell_type": "markdown",
   "metadata": {},
   "source": [
    "- Compute the derived performance metrics."
   ]
  },
  {
   "cell_type": "code",
   "execution_count": 5,
   "metadata": {},
   "outputs": [],
   "source": [
    "obp = \\\n",
    "    (training_data_df['hits'] + training_data_df['walks']) / (training_data_df['at_basts'] + training_data_df['walks'])\n",
    "training_data_df['obp'] =   obp"
   ]
  },
  {
   "cell_type": "code",
   "execution_count": 6,
   "metadata": {},
   "outputs": [],
   "source": [
    "training_data_df['singles'] = \\\n",
    "    training_data_df['hits'] - training_data_df['doubles'] - training_data_df['triples'] - \\\n",
    "    training_data_df['home_runs']"
   ]
  },
  {
   "cell_type": "code",
   "execution_count": 7,
   "metadata": {},
   "outputs": [],
   "source": [
    "training_data_df['slg'] = \\\n",
    "    ( training_data_df['singles'] + 2*training_data_df['doubles'] + \\\n",
    "        3*training_data_df['triples'] + 4*training_data_df['home_runs'] ) / training_data_df['at_basts']"
   ]
  },
  {
   "cell_type": "code",
   "execution_count": 8,
   "metadata": {},
   "outputs": [
    {
     "data": {
      "text/html": [
       "<div>\n",
       "<style scoped>\n",
       "    .dataframe tbody tr th:only-of-type {\n",
       "        vertical-align: middle;\n",
       "    }\n",
       "\n",
       "    .dataframe tbody tr th {\n",
       "        vertical-align: top;\n",
       "    }\n",
       "\n",
       "    .dataframe thead th {\n",
       "        text-align: right;\n",
       "    }\n",
       "</style>\n",
       "<table border=\"1\" class=\"dataframe\">\n",
       "  <thead>\n",
       "    <tr style=\"text-align: right;\">\n",
       "      <th></th>\n",
       "      <th>wins</th>\n",
       "      <th>at_basts</th>\n",
       "      <th>hits</th>\n",
       "      <th>doubles</th>\n",
       "      <th>triples</th>\n",
       "      <th>home_runs</th>\n",
       "      <th>walks</th>\n",
       "      <th>earned_run_average</th>\n",
       "      <th>fielding_percentage</th>\n",
       "      <th>obp</th>\n",
       "      <th>singles</th>\n",
       "      <th>slg</th>\n",
       "    </tr>\n",
       "  </thead>\n",
       "  <tbody>\n",
       "    <tr>\n",
       "      <th>908</th>\n",
       "      <td>71</td>\n",
       "      <td>5434</td>\n",
       "      <td>1305</td>\n",
       "      <td>231</td>\n",
       "      <td>35</td>\n",
       "      <td>161</td>\n",
       "      <td>424</td>\n",
       "      <td>4.63</td>\n",
       "      <td>0.984</td>\n",
       "      <td>0.295152</td>\n",
       "      <td>878</td>\n",
       "      <td>0.384431</td>\n",
       "    </tr>\n",
       "    <tr>\n",
       "      <th>909</th>\n",
       "      <td>78</td>\n",
       "      <td>5542</td>\n",
       "      <td>1426</td>\n",
       "      <td>277</td>\n",
       "      <td>32</td>\n",
       "      <td>153</td>\n",
       "      <td>561</td>\n",
       "      <td>4.21</td>\n",
       "      <td>0.982</td>\n",
       "      <td>0.325578</td>\n",
       "      <td>964</td>\n",
       "      <td>0.401660</td>\n",
       "    </tr>\n",
       "    <tr>\n",
       "      <th>910</th>\n",
       "      <td>68</td>\n",
       "      <td>5419</td>\n",
       "      <td>1275</td>\n",
       "      <td>257</td>\n",
       "      <td>26</td>\n",
       "      <td>177</td>\n",
       "      <td>449</td>\n",
       "      <td>4.43</td>\n",
       "      <td>0.982</td>\n",
       "      <td>0.293797</td>\n",
       "      <td>815</td>\n",
       "      <td>0.390293</td>\n",
       "    </tr>\n",
       "    <tr>\n",
       "      <th>911</th>\n",
       "      <td>86</td>\n",
       "      <td>5583</td>\n",
       "      <td>1446</td>\n",
       "      <td>251</td>\n",
       "      <td>17</td>\n",
       "      <td>223</td>\n",
       "      <td>506</td>\n",
       "      <td>4.00</td>\n",
       "      <td>0.985</td>\n",
       "      <td>0.320578</td>\n",
       "      <td>955</td>\n",
       "      <td>0.429876</td>\n",
       "    </tr>\n",
       "    <tr>\n",
       "      <th>912</th>\n",
       "      <td>87</td>\n",
       "      <td>5565</td>\n",
       "      <td>1437</td>\n",
       "      <td>280</td>\n",
       "      <td>54</td>\n",
       "      <td>130</td>\n",
       "      <td>572</td>\n",
       "      <td>3.65</td>\n",
       "      <td>0.988</td>\n",
       "      <td>0.327359</td>\n",
       "      <td>973</td>\n",
       "      <td>0.398023</td>\n",
       "    </tr>\n",
       "    <tr>\n",
       "      <th>913</th>\n",
       "      <td>86</td>\n",
       "      <td>5548</td>\n",
       "      <td>1415</td>\n",
       "      <td>299</td>\n",
       "      <td>32</td>\n",
       "      <td>225</td>\n",
       "      <td>526</td>\n",
       "      <td>4.08</td>\n",
       "      <td>0.983</td>\n",
       "      <td>0.319559</td>\n",
       "      <td>859</td>\n",
       "      <td>0.442141</td>\n",
       "    </tr>\n",
       "    <tr>\n",
       "      <th>914</th>\n",
       "      <td>68</td>\n",
       "      <td>5481</td>\n",
       "      <td>1333</td>\n",
       "      <td>288</td>\n",
       "      <td>32</td>\n",
       "      <td>216</td>\n",
       "      <td>449</td>\n",
       "      <td>4.20</td>\n",
       "      <td>0.984</td>\n",
       "      <td>0.300506</td>\n",
       "      <td>797</td>\n",
       "      <td>0.425652</td>\n",
       "    </tr>\n",
       "    <tr>\n",
       "      <th>915</th>\n",
       "      <td>95</td>\n",
       "      <td>5525</td>\n",
       "      <td>1446</td>\n",
       "      <td>257</td>\n",
       "      <td>23</td>\n",
       "      <td>215</td>\n",
       "      <td>436</td>\n",
       "      <td>4.37</td>\n",
       "      <td>0.984</td>\n",
       "      <td>0.315719</td>\n",
       "      <td>951</td>\n",
       "      <td>0.433303</td>\n",
       "    </tr>\n",
       "    <tr>\n",
       "      <th>916</th>\n",
       "      <td>89</td>\n",
       "      <td>5479</td>\n",
       "      <td>1358</td>\n",
       "      <td>276</td>\n",
       "      <td>18</td>\n",
       "      <td>221</td>\n",
       "      <td>632</td>\n",
       "      <td>3.78</td>\n",
       "      <td>0.986</td>\n",
       "      <td>0.325642</td>\n",
       "      <td>843</td>\n",
       "      <td>0.425808</td>\n",
       "    </tr>\n",
       "    <tr>\n",
       "      <th>917</th>\n",
       "      <td>95</td>\n",
       "      <td>5490</td>\n",
       "      <td>1403</td>\n",
       "      <td>268</td>\n",
       "      <td>29</td>\n",
       "      <td>203</td>\n",
       "      <td>536</td>\n",
       "      <td>3.51</td>\n",
       "      <td>0.988</td>\n",
       "      <td>0.321772</td>\n",
       "      <td>903</td>\n",
       "      <td>0.425865</td>\n",
       "    </tr>\n",
       "  </tbody>\n",
       "</table>\n",
       "</div>"
      ],
      "text/plain": [
       "     wins  at_basts  hits  doubles  triples  home_runs  walks  \\\n",
       "908    71      5434  1305      231       35        161    424   \n",
       "909    78      5542  1426      277       32        153    561   \n",
       "910    68      5419  1275      257       26        177    449   \n",
       "911    86      5583  1446      251       17        223    506   \n",
       "912    87      5565  1437      280       54        130    572   \n",
       "913    86      5548  1415      299       32        225    526   \n",
       "914    68      5481  1333      288       32        216    449   \n",
       "915    95      5525  1446      257       23        215    436   \n",
       "916    89      5479  1358      276       18        221    632   \n",
       "917    95      5490  1403      268       29        203    536   \n",
       "\n",
       "     earned_run_average  fielding_percentage       obp  singles       slg  \n",
       "908                4.63                0.984  0.295152      878  0.384431  \n",
       "909                4.21                0.982  0.325578      964  0.401660  \n",
       "910                4.43                0.982  0.293797      815  0.390293  \n",
       "911                4.00                0.985  0.320578      955  0.429876  \n",
       "912                3.65                0.988  0.327359      973  0.398023  \n",
       "913                4.08                0.983  0.319559      859  0.442141  \n",
       "914                4.20                0.984  0.300506      797  0.425652  \n",
       "915                4.37                0.984  0.315719      951  0.433303  \n",
       "916                3.78                0.986  0.325642      843  0.425808  \n",
       "917                3.51                0.988  0.321772      903  0.425865  "
      ]
     },
     "execution_count": 8,
     "metadata": {},
     "output_type": "execute_result"
    }
   ],
   "source": [
    "training_data_df.tail(10)"
   ]
  },
  {
   "cell_type": "code",
   "execution_count": 9,
   "metadata": {},
   "outputs": [
    {
     "data": {
      "text/html": [
       "<div>\n",
       "<style scoped>\n",
       "    .dataframe tbody tr th:only-of-type {\n",
       "        vertical-align: middle;\n",
       "    }\n",
       "\n",
       "    .dataframe tbody tr th {\n",
       "        vertical-align: top;\n",
       "    }\n",
       "\n",
       "    .dataframe thead th {\n",
       "        text-align: right;\n",
       "    }\n",
       "</style>\n",
       "<table border=\"1\" class=\"dataframe\">\n",
       "  <thead>\n",
       "    <tr style=\"text-align: right;\">\n",
       "      <th></th>\n",
       "      <th>wins</th>\n",
       "      <th>earned_run_average</th>\n",
       "      <th>fielding_percentage</th>\n",
       "      <th>obp</th>\n",
       "      <th>slg</th>\n",
       "    </tr>\n",
       "  </thead>\n",
       "  <tbody>\n",
       "    <tr>\n",
       "      <th>908</th>\n",
       "      <td>71</td>\n",
       "      <td>4.63</td>\n",
       "      <td>0.984</td>\n",
       "      <td>0.295152</td>\n",
       "      <td>0.384431</td>\n",
       "    </tr>\n",
       "    <tr>\n",
       "      <th>909</th>\n",
       "      <td>78</td>\n",
       "      <td>4.21</td>\n",
       "      <td>0.982</td>\n",
       "      <td>0.325578</td>\n",
       "      <td>0.401660</td>\n",
       "    </tr>\n",
       "    <tr>\n",
       "      <th>910</th>\n",
       "      <td>68</td>\n",
       "      <td>4.43</td>\n",
       "      <td>0.982</td>\n",
       "      <td>0.293797</td>\n",
       "      <td>0.390293</td>\n",
       "    </tr>\n",
       "    <tr>\n",
       "      <th>911</th>\n",
       "      <td>86</td>\n",
       "      <td>4.00</td>\n",
       "      <td>0.985</td>\n",
       "      <td>0.320578</td>\n",
       "      <td>0.429876</td>\n",
       "    </tr>\n",
       "    <tr>\n",
       "      <th>912</th>\n",
       "      <td>87</td>\n",
       "      <td>3.65</td>\n",
       "      <td>0.988</td>\n",
       "      <td>0.327359</td>\n",
       "      <td>0.398023</td>\n",
       "    </tr>\n",
       "    <tr>\n",
       "      <th>913</th>\n",
       "      <td>86</td>\n",
       "      <td>4.08</td>\n",
       "      <td>0.983</td>\n",
       "      <td>0.319559</td>\n",
       "      <td>0.442141</td>\n",
       "    </tr>\n",
       "    <tr>\n",
       "      <th>914</th>\n",
       "      <td>68</td>\n",
       "      <td>4.20</td>\n",
       "      <td>0.984</td>\n",
       "      <td>0.300506</td>\n",
       "      <td>0.425652</td>\n",
       "    </tr>\n",
       "    <tr>\n",
       "      <th>915</th>\n",
       "      <td>95</td>\n",
       "      <td>4.37</td>\n",
       "      <td>0.984</td>\n",
       "      <td>0.315719</td>\n",
       "      <td>0.433303</td>\n",
       "    </tr>\n",
       "    <tr>\n",
       "      <th>916</th>\n",
       "      <td>89</td>\n",
       "      <td>3.78</td>\n",
       "      <td>0.986</td>\n",
       "      <td>0.325642</td>\n",
       "      <td>0.425808</td>\n",
       "    </tr>\n",
       "    <tr>\n",
       "      <th>917</th>\n",
       "      <td>95</td>\n",
       "      <td>3.51</td>\n",
       "      <td>0.988</td>\n",
       "      <td>0.321772</td>\n",
       "      <td>0.425865</td>\n",
       "    </tr>\n",
       "  </tbody>\n",
       "</table>\n",
       "</div>"
      ],
      "text/plain": [
       "     wins  earned_run_average  fielding_percentage       obp       slg\n",
       "908    71                4.63                0.984  0.295152  0.384431\n",
       "909    78                4.21                0.982  0.325578  0.401660\n",
       "910    68                4.43                0.982  0.293797  0.390293\n",
       "911    86                4.00                0.985  0.320578  0.429876\n",
       "912    87                3.65                0.988  0.327359  0.398023\n",
       "913    86                4.08                0.983  0.319559  0.442141\n",
       "914    68                4.20                0.984  0.300506  0.425652\n",
       "915    95                4.37                0.984  0.315719  0.433303\n",
       "916    89                3.78                0.986  0.325642  0.425808\n",
       "917    95                3.51                0.988  0.321772  0.425865"
      ]
     },
     "execution_count": 9,
     "metadata": {},
     "output_type": "execute_result"
    }
   ],
   "source": [
    "final_t = training_data_df.drop(['at_basts', 'hits', 'doubles', 'triples', 'home_runs', 'walks', 'singles'], axis=1)\n",
    "final_t.tail(10)"
   ]
  },
  {
   "cell_type": "markdown",
   "metadata": {},
   "source": [
    "#### Train MLP\n",
    "\n",
    "- Training requires __X__ and _y._\n"
   ]
  },
  {
   "cell_type": "code",
   "execution_count": 10,
   "metadata": {},
   "outputs": [],
   "source": [
    "X = final_t[['earned_run_average', 'fielding_percentage', \\\n",
    "                       'obp', 'slg']]\n",
    "y = final_t['wins']"
   ]
  },
  {
   "cell_type": "code",
   "execution_count": 11,
   "metadata": {},
   "outputs": [
    {
     "data": {
      "text/html": [
       "<div>\n",
       "<style scoped>\n",
       "    .dataframe tbody tr th:only-of-type {\n",
       "        vertical-align: middle;\n",
       "    }\n",
       "\n",
       "    .dataframe tbody tr th {\n",
       "        vertical-align: top;\n",
       "    }\n",
       "\n",
       "    .dataframe thead th {\n",
       "        text-align: right;\n",
       "    }\n",
       "</style>\n",
       "<table border=\"1\" class=\"dataframe\">\n",
       "  <thead>\n",
       "    <tr style=\"text-align: right;\">\n",
       "      <th></th>\n",
       "      <th>earned_run_average</th>\n",
       "      <th>fielding_percentage</th>\n",
       "      <th>obp</th>\n",
       "      <th>slg</th>\n",
       "    </tr>\n",
       "  </thead>\n",
       "  <tbody>\n",
       "    <tr>\n",
       "      <th>908</th>\n",
       "      <td>4.63</td>\n",
       "      <td>0.984</td>\n",
       "      <td>0.295152</td>\n",
       "      <td>0.384431</td>\n",
       "    </tr>\n",
       "    <tr>\n",
       "      <th>909</th>\n",
       "      <td>4.21</td>\n",
       "      <td>0.982</td>\n",
       "      <td>0.325578</td>\n",
       "      <td>0.401660</td>\n",
       "    </tr>\n",
       "    <tr>\n",
       "      <th>910</th>\n",
       "      <td>4.43</td>\n",
       "      <td>0.982</td>\n",
       "      <td>0.293797</td>\n",
       "      <td>0.390293</td>\n",
       "    </tr>\n",
       "    <tr>\n",
       "      <th>911</th>\n",
       "      <td>4.00</td>\n",
       "      <td>0.985</td>\n",
       "      <td>0.320578</td>\n",
       "      <td>0.429876</td>\n",
       "    </tr>\n",
       "    <tr>\n",
       "      <th>912</th>\n",
       "      <td>3.65</td>\n",
       "      <td>0.988</td>\n",
       "      <td>0.327359</td>\n",
       "      <td>0.398023</td>\n",
       "    </tr>\n",
       "    <tr>\n",
       "      <th>913</th>\n",
       "      <td>4.08</td>\n",
       "      <td>0.983</td>\n",
       "      <td>0.319559</td>\n",
       "      <td>0.442141</td>\n",
       "    </tr>\n",
       "    <tr>\n",
       "      <th>914</th>\n",
       "      <td>4.20</td>\n",
       "      <td>0.984</td>\n",
       "      <td>0.300506</td>\n",
       "      <td>0.425652</td>\n",
       "    </tr>\n",
       "    <tr>\n",
       "      <th>915</th>\n",
       "      <td>4.37</td>\n",
       "      <td>0.984</td>\n",
       "      <td>0.315719</td>\n",
       "      <td>0.433303</td>\n",
       "    </tr>\n",
       "    <tr>\n",
       "      <th>916</th>\n",
       "      <td>3.78</td>\n",
       "      <td>0.986</td>\n",
       "      <td>0.325642</td>\n",
       "      <td>0.425808</td>\n",
       "    </tr>\n",
       "    <tr>\n",
       "      <th>917</th>\n",
       "      <td>3.51</td>\n",
       "      <td>0.988</td>\n",
       "      <td>0.321772</td>\n",
       "      <td>0.425865</td>\n",
       "    </tr>\n",
       "  </tbody>\n",
       "</table>\n",
       "</div>"
      ],
      "text/plain": [
       "     earned_run_average  fielding_percentage       obp       slg\n",
       "908                4.63                0.984  0.295152  0.384431\n",
       "909                4.21                0.982  0.325578  0.401660\n",
       "910                4.43                0.982  0.293797  0.390293\n",
       "911                4.00                0.985  0.320578  0.429876\n",
       "912                3.65                0.988  0.327359  0.398023\n",
       "913                4.08                0.983  0.319559  0.442141\n",
       "914                4.20                0.984  0.300506  0.425652\n",
       "915                4.37                0.984  0.315719  0.433303\n",
       "916                3.78                0.986  0.325642  0.425808\n",
       "917                3.51                0.988  0.321772  0.425865"
      ]
     },
     "execution_count": 11,
     "metadata": {},
     "output_type": "execute_result"
    }
   ],
   "source": [
    "X.tail(10)"
   ]
  },
  {
   "cell_type": "code",
   "execution_count": 12,
   "metadata": {},
   "outputs": [
    {
     "data": {
      "text/plain": [
       "908    71\n",
       "909    78\n",
       "910    68\n",
       "911    86\n",
       "912    87\n",
       "913    86\n",
       "914    68\n",
       "915    95\n",
       "916    89\n",
       "917    95\n",
       "Name: wins, dtype: int64"
      ]
     },
     "execution_count": 12,
     "metadata": {},
     "output_type": "execute_result"
    }
   ],
   "source": [
    "y.tail(10)"
   ]
  },
  {
   "cell_type": "markdown",
   "metadata": {},
   "source": [
    "- Produce training and testing sets. The framework comes with a simple utility: ```train_test_split.```"
   ]
  },
  {
   "cell_type": "code",
   "execution_count": 13,
   "metadata": {},
   "outputs": [],
   "source": [
    "# Import the train test split.\n",
    "from sklearn.model_selection import train_test_split\n",
    "\n",
    "# Produce the X_train and X_test data and the y_train and y_test data.\n",
    "X_train, X_test, y_train, y_test = train_test_split(X, y)"
   ]
  },
  {
   "cell_type": "markdown",
   "metadata": {},
   "source": [
    "- \"The neural network in Python may have difficulty converging before the maximum number of iterations allowed if the data is not normalized. Multi-layer Perceptron is sensitive to feature scaling, so it is highly recommended to scale your data.\" (https://www.springboard.com/blog/beginners-guide-neural-network-in-python-scikit-learn-0-18/) "
   ]
  },
  {
   "cell_type": "code",
   "execution_count": 14,
   "metadata": {},
   "outputs": [],
   "source": [
    "from sklearn.preprocessing import StandardScaler\n",
    "scaler = StandardScaler()\n",
    "scaler.fit(X_train)\n",
    "\n",
    "# Now apply the transformations to the data:\n",
    "X_train = scaler.transform(X_train)\n",
    "X_test= scaler.transform(X_test)"
   ]
  },
  {
   "cell_type": "markdown",
   "metadata": {},
   "source": [
    "- Finally, we will build an MLP!"
   ]
  },
  {
   "cell_type": "code",
   "execution_count": 15,
   "metadata": {},
   "outputs": [],
   "source": [
    "from sklearn.neural_network import MLPClassifier\n",
    "\n",
    "mlp = MLPClassifier(hidden_layer_sizes=(4,4,4),max_iter=50000)"
   ]
  },
  {
   "cell_type": "markdown",
   "metadata": {},
   "source": [
    "- What is ```mlp?```"
   ]
  },
  {
   "cell_type": "code",
   "execution_count": 16,
   "metadata": {},
   "outputs": [
    {
     "data": {
      "text/plain": [
       "MLPClassifier(activation='relu', alpha=0.0001, batch_size='auto', beta_1=0.9,\n",
       "       beta_2=0.999, early_stopping=False, epsilon=1e-08,\n",
       "       hidden_layer_sizes=(4, 4, 4), learning_rate='constant',\n",
       "       learning_rate_init=0.001, max_iter=50000, momentum=0.9,\n",
       "       nesterovs_momentum=True, power_t=0.5, random_state=None,\n",
       "       shuffle=True, solver='adam', tol=0.0001, validation_fraction=0.1,\n",
       "       verbose=False, warm_start=False)"
      ]
     },
     "execution_count": 16,
     "metadata": {},
     "output_type": "execute_result"
    }
   ],
   "source": [
    "mlp"
   ]
  },
  {
   "cell_type": "markdown",
   "metadata": {},
   "source": [
    "- ```mlp``` is a variable referencing an object from class ```MLPClassifier.```\n",
    "    - ```MLPClassifier``` has 21 configuration options that you can set in a constructor.\n",
    "    - I chose the defaults except for ```hidden_layer_sizes``` and ```max_iterations.```\n",
    "    \n",
    "    \n",
    "- This demonstrates a couple of the concepts we have covered:\n",
    "    - Default parameters simplifying using functions or classes.\n",
    "    - The concept of a single module/package providing multiple objects with different configuration choices to govern the modules behavior for functions. I can and typically would make several MLPs with different choices, but all execute the same code.\n",
    "    \n",
    "    \n",
    "- Now, let's TRAIN and LEARN."
   ]
  },
  {
   "cell_type": "code",
   "execution_count": 17,
   "metadata": {},
   "outputs": [
    {
     "data": {
      "text/plain": [
       "MLPClassifier(activation='relu', alpha=0.0001, batch_size='auto', beta_1=0.9,\n",
       "       beta_2=0.999, early_stopping=False, epsilon=1e-08,\n",
       "       hidden_layer_sizes=(4, 4, 4), learning_rate='constant',\n",
       "       learning_rate_init=0.001, max_iter=50000, momentum=0.9,\n",
       "       nesterovs_momentum=True, power_t=0.5, random_state=None,\n",
       "       shuffle=True, solver='adam', tol=0.0001, validation_fraction=0.1,\n",
       "       verbose=False, warm_start=False)"
      ]
     },
     "execution_count": 17,
     "metadata": {},
     "output_type": "execute_result"
    }
   ],
   "source": [
    "mlp.fit(X_train,y_train)"
   ]
  },
  {
   "cell_type": "markdown",
   "metadata": {},
   "source": [
    "- We trained the MLP. Now have it make some predictions and compare to what actually happened.\n"
   ]
  },
  {
   "cell_type": "code",
   "execution_count": 18,
   "metadata": {},
   "outputs": [
    {
     "data": {
      "text/plain": [
       "<matplotlib.collections.PathCollection at 0x23c1b61dac8>"
      ]
     },
     "execution_count": 18,
     "metadata": {},
     "output_type": "execute_result"
    }
   ],
   "source": [
    "import matplotlib.pyplot as plt \n",
    "\n",
    "predictions = mlp.predict(X_test)\n",
    "\n",
    "cmp = pd.DataFrame()\n",
    "cmp['w'] = y_test\n",
    "cmp['pred_w'] = predictions\n",
    "\n",
    "plt.scatter(cmp['w'],cmp['pred_w'])"
   ]
  },
  {
   "cell_type": "markdown",
   "metadata": {},
   "source": [
    "- That is rather odd looking. How accurate were we?"
   ]
  },
  {
   "cell_type": "code",
   "execution_count": 19,
   "metadata": {},
   "outputs": [
    {
     "name": "stdout",
     "output_type": "stream",
     "text": [
      "Avg error =  4.630434782608695\n",
      "Std Deviation =  4.31387876840312\n"
     ]
    }
   ],
   "source": [
    "errs = pd.DataFrame()\n",
    "errs['e']=cmp['w']-cmp['pred_w']\n",
    "errs['e']=errs['e'].abs()\n",
    "avg=errs['e'].mean()\n",
    "std=errs['e'].std()\n",
    "print(\"Avg error = \", avg)\n",
    "print(\"Std Deviation = \", std)"
   ]
  },
  {
   "cell_type": "markdown",
   "metadata": {},
   "source": [
    "- On average, our prediction was off by 4 wins."
   ]
  },
  {
   "cell_type": "code",
   "execution_count": 20,
   "metadata": {},
   "outputs": [
    {
     "data": {
      "text/plain": [
       "0.06356336647534108"
      ]
     },
     "execution_count": 20,
     "metadata": {},
     "output_type": "execute_result"
    }
   ],
   "source": [
    "rel_errs = errs['e']/cmp['w']\n",
    "re = rel_errs.mean()\n",
    "re"
   ]
  },
  {
   "cell_type": "markdown",
   "metadata": {},
   "source": [
    "- Or 6%."
   ]
  },
  {
   "cell_type": "code",
   "execution_count": 21,
   "metadata": {},
   "outputs": [
    {
     "name": "stdout",
     "output_type": "stream",
     "text": [
      "[[-0.38654623  1.30993817  0.45530632  0.24301117]\n",
      " [ 1.23560582 -0.33225837 -0.61626664  0.04447612]]\n",
      "[91 67]\n",
      "[[  1.39603844   5.90808849 -21.57543741  -7.16269037]\n",
      " [ -5.73430026   5.90808849  24.70431803  26.9008131 ]]\n"
     ]
    },
    {
     "data": {
      "text/plain": [
       "array([59, 97], dtype=int64)"
      ]
     },
     "execution_count": 21,
     "metadata": {},
     "output_type": "execute_result"
    }
   ],
   "source": [
    "tmp = X_test[0:2]\n",
    "print(X_test[0:2])\n",
    "print(predictions[0:2])\n",
    "X_test2 = [[5.0, 1.0, 0.0, 0.2], [1.0, 1.0, 0.7, 1.2]]\n",
    "X_test2  = scaler.transform(X_test2)\n",
    "print(X_test2)\n",
    "pred2 = mlp.predict(X_test2)\n",
    "pred2"
   ]
  },
  {
   "cell_type": "markdown",
   "metadata": {},
   "source": [
    "- Let's try a different configuration."
   ]
  },
  {
   "cell_type": "code",
   "execution_count": 22,
   "metadata": {},
   "outputs": [],
   "source": [
    "mlp2 = MLPClassifier(hidden_layer_sizes=(8,8,8),max_iter=50000)"
   ]
  },
  {
   "cell_type": "code",
   "execution_count": 23,
   "metadata": {},
   "outputs": [
    {
     "data": {
      "text/plain": [
       "<matplotlib.collections.PathCollection at 0x23c1c8c89e8>"
      ]
     },
     "execution_count": 23,
     "metadata": {},
     "output_type": "execute_result"
    },
    {
     "data": {
      "image/png": "[encoded data removed]",
      "text/plain": [
       "<matplotlib.figure.Figure at 0x23c1b794a90>"
      ]
     },
     "metadata": {},
     "output_type": "display_data"
    }
   ],
   "source": [
    "mlp2.fit(X_train,y_train)\n",
    "predictions = mlp2.predict(X_test)\n",
    "\n",
    "cmp = pd.DataFrame()\n",
    "cmp['w'] = y_test\n",
    "cmp['pred_w'] = predictions\n",
    "\n",
    "plt.scatter(cmp['w'],cmp['pred_w'])"
   ]
  },
  {
   "cell_type": "code",
   "execution_count": 24,
   "metadata": {},
   "outputs": [
    {
     "name": "stdout",
     "output_type": "stream",
     "text": [
      "Avg error =  4.978260869565218\n",
      "Std Deviation =  4.31387876840312\n"
     ]
    }
   ],
   "source": [
    "errs = pd.DataFrame()\n",
    "errs['e']=cmp['w']-cmp['pred_w']\n",
    "errs['e']=errs['e'].abs()\n",
    "avg3=errs['e'].mean()\n",
    "print(\"Avg error = \", avg3)\n",
    "print(\"Std Deviation = \", std)"
   ]
  },
  {
   "cell_type": "markdown",
   "metadata": {},
   "source": [
    "- One more with feeling!"
   ]
  },
  {
   "cell_type": "markdown",
   "metadata": {},
   "source": [
    "- Now I mean it."
   ]
  },
  {
   "cell_type": "code",
   "execution_count": 25,
   "metadata": {},
   "outputs": [
    {
     "data": {
      "text/plain": [
       "<matplotlib.collections.PathCollection at 0x23c1c932f60>"
      ]
     },
     "execution_count": 25,
     "metadata": {},
     "output_type": "execute_result"
    },
    {
     "data": {
      "image/png": "[encoded data removed]",
      "text/plain": [
       "<matplotlib.figure.Figure at 0x23c1c8a46a0>"
      ]
     },
     "metadata": {},
     "output_type": "display_data"
    }
   ],
   "source": [
    "mlp3 = MLPClassifier(hidden_layer_sizes=(12,12,12,12,12),max_iter=50000)\n",
    "mlp3.fit(X_train,y_train)\n",
    "predictions = mlp3.predict(X_test)\n",
    "\n",
    "cmp = pd.DataFrame()\n",
    "cmp['w'] = y_test\n",
    "cmp['pred_w'] = predictions\n",
    "\n",
    "plt.scatter(cmp['w'],cmp['pred_w'])"
   ]
  },
  {
   "cell_type": "code",
   "execution_count": 26,
   "metadata": {},
   "outputs": [
    {
     "data": {
      "text/plain": [
       "4.7043478260869565"
      ]
     },
     "execution_count": 26,
     "metadata": {},
     "output_type": "execute_result"
    }
   ],
   "source": [
    "errs = pd.DataFrame()\n",
    "errs['e']=cmp['w']-cmp['pred_w']\n",
    "errs['e']=errs['e'].abs()\n",
    "avg3=errs['e'].mean()\n",
    "avg3"
   ]
  },
  {
   "cell_type": "markdown",
   "metadata": {},
   "source": [
    "__Different MLP__"
   ]
  },
  {
   "cell_type": "code",
   "execution_count": 27,
   "metadata": {},
   "outputs": [
    {
     "data": {
      "text/plain": [
       "<matplotlib.collections.PathCollection at 0x23c1c9a0400>"
      ]
     },
     "execution_count": 27,
     "metadata": {},
     "output_type": "execute_result"
    },
    {
     "data": {
      "image/png": "[encoded data removed]",
      "text/plain": [
       "<matplotlib.figure.Figure at 0x23c1c8aea20>"
      ]
     },
     "metadata": {},
     "output_type": "display_data"
    }
   ],
   "source": [
    "from sklearn.neural_network import MLPRegressor\n",
    "mlp4 = MLPRegressor(hidden_layer_sizes=(24,24,24,24,24, 24,24,24),max_iter=100000)\n",
    "mlp4.fit(X_train,y_train)\n",
    "predictions = mlp4.predict(X_test)\n",
    "\n",
    "cmp = pd.DataFrame()\n",
    "cmp['w'] = y_test\n",
    "cmp['pred_w'] = predictions\n",
    "\n",
    "plt.scatter(cmp['w'],cmp['pred_w'])"
   ]
  },
  {
   "cell_type": "code",
   "execution_count": 28,
   "metadata": {},
   "outputs": [
    {
     "data": {
      "text/plain": [
       "4.552584395174016"
      ]
     },
     "execution_count": 28,
     "metadata": {},
     "output_type": "execute_result"
    }
   ],
   "source": [
    "errs = pd.DataFrame()\n",
    "errs['e']=cmp['w']-cmp['pred_w']\n",
    "errs['e']=errs['e'].abs()\n",
    "avg3=errs['e'].mean()\n",
    "avg3"
   ]
  },
  {
   "cell_type": "code",
   "execution_count": 29,
   "metadata": {},
   "outputs": [
    {
     "name": "stdout",
     "output_type": "stream",
     "text": [
      "[[-0.38654623  1.30993817  0.45530632  0.24301117]\n",
      " [ 1.23560582 -0.33225837 -0.61626664  0.04447612]]\n",
      "[84.36369125 64.50101809]\n",
      "[[  1.39603844   5.90808849 -21.57543741  -7.16269037]\n",
      " [ -5.73430026   5.90808849  24.70431803  26.9008131 ]]\n"
     ]
    },
    {
     "data": {
      "text/plain": [
       "array([112.46448673, 494.80799393])"
      ]
     },
     "execution_count": 29,
     "metadata": {},
     "output_type": "execute_result"
    }
   ],
   "source": [
    "tmp = X_test[0:2]\n",
    "print(X_test[0:2])\n",
    "print(predictions[0:2])\n",
    "X_test2 = [[5.0, 1.0, 0.0, 0.2], [1.0, 1.0, 0.7, 1.2]]\n",
    "X_test2  = scaler.transform(X_test2)\n",
    "print(X_test2)\n",
    "pred2 = mlp4.predict(X_test2)\n",
    "pred2"
   ]
  },
  {
   "cell_type": "code",
   "execution_count": 30,
   "metadata": {},
   "outputs": [
    {
     "name": "stdout",
     "output_type": "stream",
     "text": [
      "Avg error =  4.46519755160339\n",
      "Std Deviation =  4.31387876840312\n"
     ]
    },
    {
     "data": {
      "image/png": "[encoded data removed]",
      "text/plain": [
       "<matplotlib.figure.Figure at 0x23c1c9b42b0>"
      ]
     },
     "metadata": {},
     "output_type": "display_data"
    }
   ],
   "source": [
    "from sklearn.neural_network import MLPRegressor\n",
    "mlp5 = MLPRegressor(hidden_layer_sizes=(64,64,64,64,64, 64,64,64,64,64),max_iter=100000)\n",
    "mlp5.fit(X_train,y_train)\n",
    "predictions = mlp5.predict(X_test)\n",
    "\n",
    "cmp = pd.DataFrame()\n",
    "cmp['w'] = y_test\n",
    "cmp['pred_w'] = predictions\n",
    "\n",
    "plt.scatter(cmp['w'],cmp['pred_w'])\n",
    "errs = pd.DataFrame()\n",
    "errs['e']=cmp['w']-cmp['pred_w']\n",
    "errs['e']=errs['e'].abs()\n",
    "avg3=errs['e'].mean()\n",
    "print(\"Avg error = \", avg3)\n",
    "print(\"Std Deviation = \", std)"
   ]
  },
  {
   "cell_type": "code",
   "execution_count": 31,
   "metadata": {},
   "outputs": [
    {
     "name": "stdout",
     "output_type": "stream",
     "text": [
      "Avg error =  4.60415243698168\n",
      "Std Deviation =  4.06808022106334\n"
     ]
    },
    {
     "data": {
      "image/png": "[encoded data removed]",
      "text/plain": [
       "<matplotlib.figure.Figure at 0x23c1dad5908>"
      ]
     },
     "metadata": {},
     "output_type": "display_data"
    }
   ],
   "source": [
    "from sklearn.neural_network import MLPRegressor\n",
    "mlp6 = MLPRegressor(hidden_layer_sizes=(256,256,256, \\\n",
    "                                        256,256,256,256,256,256,256,256,256,256, \\\n",
    "                                        256,256,256,256,256,256,256),max_iter=100000)\n",
    "mlp6.fit(X_train,y_train)\n",
    "predictions = mlp6.predict(X_test)\n",
    "\n",
    "cmp = pd.DataFrame()\n",
    "cmp['w'] = y_test\n",
    "cmp['pred_w'] = predictions\n",
    "\n",
    "plt.scatter(cmp['w'],cmp['pred_w'])\n",
    "errs = pd.DataFrame()\n",
    "errs['e']=cmp['w']-cmp['pred_w']\n",
    "errs['e']=errs['e'].abs()\n",
    "avg3=errs['e'].mean()\n",
    "std=errs['e'].std()\n",
    "print(\"Avg error = \", avg3)\n",
    "print(\"Std Deviation = \", std)\n"
   ]
  },
  {
   "cell_type": "markdown",
   "metadata": {},
   "source": [
    "## Your Code"
   ]
  },
  {
   "cell_type": "markdown",
   "metadata": {},
   "source": [
    "### Perceptron 1"
   ]
  },
  {
   "cell_type": "code",
   "execution_count": 32,
   "metadata": {
    "scrolled": true
   },
   "outputs": [
    {
     "name": "stdout",
     "output_type": "stream",
     "text": [
      "Avg error =  4.509710684918139\n",
      "Std Deviation =  4.32961078478552\n"
     ]
    },
    {
     "data": {
      "image/png": "[encoded data removed]",
      "text/plain": [
       "<matplotlib.figure.Figure at 0x23c243b5898>"
      ]
     },
     "metadata": {},
     "output_type": "display_data"
    }
   ],
   "source": [
    "# I tried to have six hiden layers and each has six neural. \n",
    "# And I set the max_iter to be smaller say: 1000\n",
    "from sklearn.neural_network import MLPRegressor\n",
    "mlp6 = MLPRegressor(hidden_layer_sizes=(6,6,6,6,6,6),max_iter=1000)\n",
    "mlp6.fit(X_train,y_train)\n",
    "predictions = mlp6.predict(X_test)\n",
    "\n",
    "cmp = pd.DataFrame()\n",
    "cmp['w'] = y_test\n",
    "cmp['pred_w'] = predictions\n",
    "\n",
    "plt.scatter(cmp['w'],cmp['pred_w'])\n",
    "errs = pd.DataFrame()\n",
    "errs['e']=cmp['w']-cmp['pred_w']\n",
    "errs['e']=errs['e'].abs()\n",
    "avg3=errs['e'].mean()\n",
    "std=errs['e'].std()\n",
    "print(\"Avg error = \", avg3)\n",
    "print(\"Std Deviation = \", std)\n"
   ]
  },
  {
   "cell_type": "markdown",
   "metadata": {},
   "source": [
    "Clearly, my model have a better result than mlp, mlp2.Since the average error is smaller."
   ]
  },
  {
   "cell_type": "markdown",
   "metadata": {},
   "source": [
    "### Perceptron 2"
   ]
  },
  {
   "cell_type": "code",
   "execution_count": 33,
   "metadata": {},
   "outputs": [
    {
     "name": "stdout",
     "output_type": "stream",
     "text": [
      "Avg error =  4.329378190493948\n",
      "Std Deviation =  4.1686243007191965\n"
     ]
    },
    {
     "data": {
      "image/png": "[encoded data removed]",
      "text/plain": [
       "<matplotlib.figure.Figure at 0x23c1db33c88>"
      ]
     },
     "metadata": {},
     "output_type": "display_data"
    }
   ],
   "source": [
    "# samiliarly i set the hidden layer size to be 10 * 10\n",
    "# And I set bigger max_iter to be 10000000000\n",
    "from sklearn.neural_network import MLPRegressor\n",
    "mlp6 = MLPRegressor(hidden_layer_sizes=(10,10,10,10,10,10,10,10,10,10),max_iter=10000000000)\n",
    "mlp6.fit(X_train,y_train)\n",
    "predictions = mlp6.predict(X_test)\n",
    "\n",
    "cmp = pd.DataFrame()\n",
    "cmp['w'] = y_test\n",
    "cmp['pred_w'] = predictions\n",
    "\n",
    "plt.scatter(cmp['w'],cmp['pred_w'])\n",
    "errs = pd.DataFrame()\n",
    "errs['e']=cmp['w']-cmp['pred_w']\n",
    "errs['e']=errs['e'].abs()\n",
    "avg3=errs['e'].mean()\n",
    "std=errs['e'].std()\n",
    "print(\"Avg error = \", avg3)\n",
    "print(\"Std Deviation = \", std)"
   ]
  },
  {
   "cell_type": "markdown",
   "metadata": {},
   "source": [
    "the result of this model is even better. But it is still a litte worse than mlp4."
   ]
  }
 ],
 "metadata": {
  "kernelspec": {
   "display_name": "Python 3",
   "language": "python",
   "name": "python3"
  },
  "language_info": {
   "codemirror_mode": {
    "name": "ipython",
    "version": 3
   },
   "file_extension": ".py",
   "mimetype": "text/x-python",
   "name": "python",
   "nbconvert_exporter": "python",
   "pygments_lexer": "ipython3",
   "version": "3.6.4"
  },
  "toc": {
   "nav_menu": {},
   "number_sections": true,
   "sideBar": true,
   "skip_h1_title": false,
   "title_cell": "Table of Contents",
   "title_sidebar": "Contents",
   "toc_cell": false,
   "toc_position": {},
   "toc_section_display": true,
   "toc_window_display": false
  }
 },
 "nbformat": 4,
 "nbformat_minor": 2
}
