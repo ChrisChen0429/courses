{
 "cells": [
  {
   "cell_type": "markdown",
   "metadata": {},
   "source": [
    "# Homework 2\n",
    "## Implementing Core Concepts\n",
    "\n",
    "\n",
    "## I have run the function for myself which prove to be workable\n",
    "## Befor you try to run the last function, please read my summary which will prevent you misunderstand my function\n",
    "\n",
    "### Task 1\n",
    "    Write a Python function that reads data from a file \n",
    "    using get_data_from_file(ticker) and returns:\n",
    "\n",
    "- Mu (the average, relative daily Adj Close change). The spreadsheets have the formula.\n",
    "- Sigma -- The standard deviation of Mu. The spreadsheets have the formula."
   ]
  },
  {
   "cell_type": "markdown",
   "metadata": {},
   "source": [
    "#### explain the two function form lecture that I used in this problem \n",
    " "
   ]
  },
  {
   "cell_type": "code",
   "execution_count": 1,
   "metadata": {
    "collapsed": true
   },
   "outputs": [],
   "source": [
    "# import the libraries which I need to use in this program\n",
    "import pandas as pd \n",
    "import random"
   ]
  },
  {
   "cell_type": "code",
   "execution_count": 2,
   "metadata": {},
   "outputs": [
    {
     "data": {
      "text/html": [
       "<div>\n",
       "<style>\n",
       "    .dataframe thead tr:only-child th {\n",
       "        text-align: right;\n",
       "    }\n",
       "\n",
       "    .dataframe thead th {\n",
       "        text-align: left;\n",
       "    }\n",
       "\n",
       "    .dataframe tbody tr th {\n",
       "        vertical-align: top;\n",
       "    }\n",
       "</style>\n",
       "<table border=\"1\" class=\"dataframe\">\n",
       "  <thead>\n",
       "    <tr style=\"text-align: right;\">\n",
       "      <th></th>\n",
       "      <th>Date</th>\n",
       "      <th>Open</th>\n",
       "      <th>High</th>\n",
       "      <th>Low</th>\n",
       "      <th>Close</th>\n",
       "      <th>Adj Close</th>\n",
       "      <th>Volume</th>\n",
       "    </tr>\n",
       "  </thead>\n",
       "  <tbody>\n",
       "    <tr>\n",
       "      <th>0</th>\n",
       "      <td>2018-01-02</td>\n",
       "      <td>170.160004</td>\n",
       "      <td>172.300003</td>\n",
       "      <td>169.259995</td>\n",
       "      <td>172.259995</td>\n",
       "      <td>172.259995</td>\n",
       "      <td>25555900</td>\n",
       "    </tr>\n",
       "    <tr>\n",
       "      <th>1</th>\n",
       "      <td>2018-01-03</td>\n",
       "      <td>172.529999</td>\n",
       "      <td>174.550003</td>\n",
       "      <td>171.960007</td>\n",
       "      <td>172.229996</td>\n",
       "      <td>172.229996</td>\n",
       "      <td>29517900</td>\n",
       "    </tr>\n",
       "    <tr>\n",
       "      <th>2</th>\n",
       "      <td>2018-01-04</td>\n",
       "      <td>172.539993</td>\n",
       "      <td>173.470001</td>\n",
       "      <td>172.080002</td>\n",
       "      <td>173.029999</td>\n",
       "      <td>173.029999</td>\n",
       "      <td>22434600</td>\n",
       "    </tr>\n",
       "    <tr>\n",
       "      <th>3</th>\n",
       "      <td>2018-01-05</td>\n",
       "      <td>173.440002</td>\n",
       "      <td>175.369995</td>\n",
       "      <td>173.050003</td>\n",
       "      <td>175.000000</td>\n",
       "      <td>175.000000</td>\n",
       "      <td>23660000</td>\n",
       "    </tr>\n",
       "    <tr>\n",
       "      <th>4</th>\n",
       "      <td>2018-01-08</td>\n",
       "      <td>174.350006</td>\n",
       "      <td>175.610001</td>\n",
       "      <td>173.929993</td>\n",
       "      <td>174.350006</td>\n",
       "      <td>174.350006</td>\n",
       "      <td>20567800</td>\n",
       "    </tr>\n",
       "  </tbody>\n",
       "</table>\n",
       "</div>"
      ],
      "text/plain": [
       "         Date        Open        High         Low       Close   Adj Close  \\\n",
       "0  2018-01-02  170.160004  172.300003  169.259995  172.259995  172.259995   \n",
       "1  2018-01-03  172.529999  174.550003  171.960007  172.229996  172.229996   \n",
       "2  2018-01-04  172.539993  173.470001  172.080002  173.029999  173.029999   \n",
       "3  2018-01-05  173.440002  175.369995  173.050003  175.000000  175.000000   \n",
       "4  2018-01-08  174.350006  175.610001  173.929993  174.350006  174.350006   \n",
       "\n",
       "     Volume  \n",
       "0  25555900  \n",
       "1  29517900  \n",
       "2  22434600  \n",
       "3  23660000  \n",
       "4  20567800  "
      ]
     },
     "execution_count": 2,
     "metadata": {},
     "output_type": "execute_result"
    }
   ],
   "source": [
    "# This function takes a ticker symbol and loads a data frame\n",
    "# with the data stored in a CSV file in the current directory.\n",
    "# argument: the name of ticker\n",
    "# expect output: the data of the ticker price as a dataframe\n",
    "def get_data_from_file(ticker):\n",
    "    f_name = ticker + \".csv\"\n",
    "    df = pd.read_csv(f_name, delimiter=\",\")\n",
    "    return df\n",
    "\n",
    "\n",
    "## test of the function\n",
    "get_data_from_file('AAPL').head(5)"
   ]
  },
  {
   "cell_type": "code",
   "execution_count": 3,
   "metadata": {},
   "outputs": [
    {
     "name": "stdout",
     "output_type": "stream",
     "text": [
      "The average close price for AAPL is 173.722272091\n"
     ]
    }
   ],
   "source": [
    "# this function enable us to calculate the average price\n",
    "# argument: close_price (list of number)\n",
    "# expected output: the the average of \n",
    "\n",
    "def compute_average(close_prices):\n",
    "    no_of_entries = len(close_prices)\n",
    "    total = 0\n",
    "    for i in range(0,no_of_entries):\n",
    "        total = total + close_prices[i]\n",
    "        \n",
    "    result = total / no_of_entries\n",
    "    return result\n",
    "\n",
    "# test of this function \n",
    "aapl_close = get_data_from_file('AAPL')['Close']\n",
    "avg_aapl_price = compute_average(aapl_close)\n",
    "print(\"The average close price for AAPL is\", avg_aapl_price)"
   ]
  },
  {
   "cell_type": "markdown",
   "metadata": {},
   "source": [
    "#### my function"
   ]
  },
  {
   "cell_type": "code",
   "execution_count": 4,
   "metadata": {},
   "outputs": [
    {
     "name": "stdout",
     "output_type": "stream",
     "text": [
      "The standard deviation close price for AAPL is 3.75987492743\n"
     ]
    }
   ],
   "source": [
    "# like the compute_average function which we use to calculate the average\n",
    "# I write the function compute_std which we use to calcualte the standard deviation\n",
    "\n",
    "def compute_std(price):\n",
    "# argument: price (list of number)\n",
    "# expected output: the the average of \n",
    "    \n",
    "    Mu = compute_average(price)\n",
    "    \n",
    "    ## part one: calculate the diff from mean\n",
    "    diff_from_mean = []\n",
    "    for i in range(len(price)):\n",
    "        diff_from_mean.append((price[i] - Mu) ** 2)\n",
    "        # calculate the diff from mean and append every value to the end of list\n",
    "    \n",
    "    ## part two: calculate sigma based on the formula\n",
    "    Sigma = (sum(diff_from_mean) / (len(diff_from_mean) - 1)) ** (1/2)\n",
    "    \n",
    "    return Sigma\n",
    "\n",
    "# test of the function\n",
    "\n",
    "aapl_close = get_data_from_file('AAPL')['Close']\n",
    "std_aapl_price = compute_std(aapl_close)\n",
    "print(\"The standard deviation close price for AAPL is\", std_aapl_price)    \n"
   ]
  },
  {
   "cell_type": "code",
   "execution_count": 5,
   "metadata": {},
   "outputs": [
    {
     "name": "stdout",
     "output_type": "stream",
     "text": [
      "For AAPL,the Mu is: -0.00121312001591 ;The sigma is: 0.00925301737573\n"
     ]
    }
   ],
   "source": [
    "def Mu_Sigma_Calculator(ticker):\n",
    "# argument: ticker (the name of the stock)\n",
    "# expected output: Mu(the average) and sigma(the standard deviation)\n",
    "    \n",
    "    # 1. utilize get_data_from_file function to read data \n",
    "    df = get_data_from_file(ticker)\n",
    "    \n",
    "    # 2. extract the infromation about Adj Close \n",
    "    Adj_Close = df['Adj Close']\n",
    "    \n",
    "    # 3. calculate the Mu (mu should be calculate first since sigma need to calculate based on mu)\n",
    "    ## part one: calculate the Relative Change\n",
    "    Relative_Change = []\n",
    "    # create a empty list to store relative change records\n",
    "    \n",
    "    for i in range(len(Adj_Close) - 1): \n",
    "        # here i iterate from the 0 to the (n-1) element in the adj close, where n is the number of element in adj close\n",
    "        Relative_Change.append((Adj_Close[i + 1] - Adj_Close[i]) / Adj_Close[i])\n",
    "        # calculate relative change for different time and append it to the end of list relative change\n",
    "    \n",
    "    # calculate mu based on the compute_average function   \n",
    "    Mu = compute_average(Relative_Change)\n",
    "    \n",
    "    ## 4 calculate Sigma, based on the compute_srd function\n",
    "    Sigma = compute_std(Relative_Change)\n",
    "    \n",
    "    return Mu,Sigma\n",
    "   \n",
    "        \n",
    "## test of the function\n",
    "test_1 = Mu_Sigma_Calculator('AAPL')\n",
    "\n",
    "print(\"For AAPL,the Mu is:\", test_1[0], \";The sigma is:\",test_1[1])\n",
    "# the result is same as example"
   ]
  },
  {
   "cell_type": "markdown",
   "metadata": {},
   "source": [
    "### Task 2\n",
    "Write a function of the form: random_daily_return(s, mu, sigma).\n",
    "\n",
    "The function computes the new daily stock price. This is the previous price S plus a random element. The formula for the random element is\n",
    "\n",
    "  $$delta = (s \\times mu) + (s \\times sigma \\times R)$$\n",
    "\n",
    "You can import the package numpy as np. Use np.random(0,1) to compute R. Compute R inside the function. (You can use numpy random normal if you want).\n",
    "\n",
    "The new stock price you return is the input parameter s plus delta.\n",
    "#### my function"
   ]
  },
  {
   "cell_type": "code",
   "execution_count": 6,
   "metadata": {
    "collapsed": true
   },
   "outputs": [],
   "source": [
    "# Here I write a function which realize three targes:\n",
    "# 1. simulate a random variable R\n",
    "# 2. calulate the delta\n",
    "# 3. calulate new stock price\n",
    "\n",
    "def random_daily_return(s,mu,sigma):\n",
    "# arguments: s(the old price); mu(the past average of the prive) and sigma(the std of past price)\n",
    "# expected output: the new price\n",
    "\n",
    "    # 1. simulate R\n",
    "    \n",
    "    R = np.random.normal(0,1)\n",
    "    \n",
    "    # 2. calulate the delta\n",
    "    \n",
    "    delta = (s * mu) + (s*sigma*R)\n",
    "    \n",
    "    # 3. calculate new stock\n",
    "    new_price = s + delta\n",
    "    return(new_price)\n"
   ]
  },
  {
   "cell_type": "markdown",
   "metadata": {},
   "source": [
    "### Task 3\n",
    "Create a function to produce the ramdom walk simulating a trading year. Call this random_stock_year.\n",
    "\n",
    "- There are 252 trading days in a year.\n",
    "- Build an return a list with 252 elements. Each element is the return value of a new call to random_daily_return. That is, you will call random_daily_return 252 times.\n",
    "- Return the list.\n",
    "#### my function"
   ]
  },
  {
   "cell_type": "code",
   "execution_count": 7,
   "metadata": {
    "collapsed": true
   },
   "outputs": [],
   "source": [
    "# Here I write a function which realize the simulation of the stock price in one year\n",
    "\n",
    "## Thus, there are mainly three sub targets:\n",
    "## 1. simulate the first price \n",
    "## 2. use simulated first price to update the price(s)\n",
    "\n",
    "\n",
    "def random_stock_year(s,mu,sigma):\n",
    "# arguments: s(the old price); mu(the past average of the prive) and sigma(the std of past price)\n",
    "# expected output: the new price of the next year    \n",
    "    \n",
    "        \n",
    "        ## 1. simulate the first price(s)\n",
    "        random_stock = []\n",
    "        # create a empty list which I will use to store the price\n",
    "        \n",
    "        # for the first price I use the starting price which I provide in argument\n",
    "        # I will delect this latter since this is not a simulated data\n",
    "        random_stock.append(s)\n",
    "        \n",
    "        ## 2. use simulated first price to update the price(s)\n",
    "        for i in range(251):\n",
    "            s = random_stock[-1]\n",
    "            random_stock.append(random_daily_return(s,mu,sigma))\n",
    "            \n",
    "        # delect the first data\n",
    "        result = random_stock[1:]\n",
    "                                \n",
    "        return random_stock\n",
    "            "
   ]
  },
  {
   "cell_type": "markdown",
   "metadata": {},
   "source": [
    "### Task 4\n",
    "1. imports\n",
    "    1. numpy as np\n",
    "    2. import math (to get sqrt)\n",
    "    3. import matplotlib.pyplot as plt\n",
    "2. Parse command line arguments to input a ticker symbol and the number of simulation to execute. There is an example in the Mony Hall simulation that we covered in lectures. You will have to make minor modifications.\n",
    "3. Validate the input and print an error message if it is invalid. The rules are:\n",
    "    1. The ticker symbol is in the list ['AAPL', 'GOOG', 'AMZN']. \n",
    "    2. The number of simulations must be greater than 0.\n",
    "4. Loop for the number of requested simulations. The loop should call\n",
    "    1. l = random_stock_year\n",
    "    2. plt.plot(l)\n",
    "5. After the loop completes, call plt.show()."
   ]
  },
  {
   "cell_type": "code",
   "execution_count": 8,
   "metadata": {
    "collapsed": true
   },
   "outputs": [],
   "source": [
    "# import the libraries\n",
    "import numpy as np\n",
    "import math  # acutally do not need fot this\n",
    "import matplotlib.pyplot as plt"
   ]
  },
  {
   "cell_type": "code",
   "execution_count": 38,
   "metadata": {
    "collapsed": true
   },
   "outputs": [],
   "source": [
    "# first I wirte a function named input_information which I can ask the user to input the information\n",
    "def input_information():\n",
    "# argument: none\n",
    "# expected output: ticket name, and the number of year that we want to simulated\n",
    "    \n",
    "    \n",
    "    ticket = input(\"please input the name of your stock(ticket):\").upper().split(\",\")\n",
    "    # split by \",\" enable us to split the information based on the symbol \" ,\"\n",
    "    # in this way we can input many different companies, no matter whether the input is lower case or upper case\n",
    "    \n",
    "    number_of_year = input(\"please input the number of year:\")\n",
    "    \n",
    "    # the folloing code is used to test whether the information input is vaild\n",
    "    information_valid = True\n",
    "   \n",
    "    \n",
    "    for i in ticket:\n",
    "        if i not in ['AAPL', 'GOOG', 'AMZN']:\n",
    "            print(\"the stock use in the list!\")\n",
    "            information_valid = False\n",
    "            \n",
    "    if int(number_of_year) <= 0 :\n",
    "        print(\"the number of year that you want to simulate must bigger than 0\")\n",
    "        information_valid = False\n",
    "    \n",
    "    \n",
    "    return ticket,number_of_year,information_valid\n",
    "\n",
    "\n",
    "def simulation_of_stock():\n",
    "        # first we need to get all the information\n",
    "        \n",
    "        ticket,number_of_year,information_valid = input_information()\n",
    "        \n",
    "        # if the input information is not valid then we just print try again.And do nothing\n",
    "        if information_valid == False:\n",
    "            print(\"please try again!\")\n",
    "        \n",
    "        \n",
    "        else:\n",
    "            # use try we can test other error(possible)\n",
    "            try:\n",
    "                for i in ticket:\n",
    "                    for j in range(int(number_of_year)):\n",
    "                        this_ticket = i\n",
    "                        Mu = Mu_Sigma_Calculator(this_ticket)[0]\n",
    "                        Sigma = Mu_Sigma_Calculator(this_ticket)[1]\n",
    "                        s = list(get_data_from_file(this_ticket)['Adj Close'])[-1]\n",
    "                        I = random_stock_year(s,Mu,Sigma)\n",
    "                        plt.plot(I)\n",
    "        \n",
    "                plt.title(\"the price of stock in the future one year\")\n",
    "                plt.xlabel(\"times\")\n",
    "                plt.ylabel(\"price of the stock\")\n",
    "                plt.show()\n",
    "            \n",
    "            except:\n",
    "                print(\"Got value error = \",ValueError,\"please try again!\")\n",
    "            finally:\n",
    "                print(\"work done\")\n",
    "\n",
    "        # this will tell us that the work is finished.        "
   ]
  },
  {
   "cell_type": "markdown",
   "metadata": {},
   "source": [
    "### result test\n",
    "\n",
    "** Summary of my function（please read this befor run the function!）**\n",
    "\n",
    "- What this function CAN do:\n",
    " \n",
    " 1. simulate the price of stock for any stock in the list and any positive numbe of year;\n",
    " 2. prevent user input the negative number of year and the stock name not in the list.\n",
    "   *The function will give hint rather than an error message!*\n",
    " 3. if the stock name you input is not in upper class, I will change it to upper case for you\n",
    " \n",
    " **However this function is not perfect**\n",
    " \n",
    "- What this function CANNOT do:\n",
    " \n",
    " 1. prevent user input unvaild number of year (*this must be a number, otherwise an error message will show*)\n",
    " 2. Automatically update the value of mu and sigma (The prediction in the long run would be unrealiable)\n",
    " 3. *the stock name you input shoud be splited by space rather any other things and please input all the stock name at the same time!*\n",
    " 4. the plot cannot tell which line belong to which company's stock which may make user feel confused.\n",
    " \n",
    " **Sorry for thsee! I will keep tring to make this more user-friendly**"
   ]
  },
  {
   "cell_type": "code",
   "execution_count": 39,
   "metadata": {
    "scrolled": true
   },
   "outputs": [
    {
     "name": "stdout",
     "output_type": "stream",
     "text": [
      "please input the name of your stock(ticket):-12\n",
      "please input the number of year:31\n",
      "the stock use in the list!\n",
      "please try again!\n"
     ]
    }
   ],
   "source": [
    "# if we try to input wrong inforamtion(unvaild stock name)\n",
    "simulation_of_stock()"
   ]
  },
  {
   "cell_type": "code",
   "execution_count": 40,
   "metadata": {},
   "outputs": [
    {
     "name": "stdout",
     "output_type": "stream",
     "text": [
      "please input the name of your stock(ticket):appl\n",
      "please input the number of year:-120\n",
      "the stock use in the list!\n",
      "the number of year that you want to simulate must bigger than 0\n",
      "please try again!\n"
     ]
    }
   ],
   "source": [
    "# if we try to input wrong inforamtion(unvaild number of year)\n",
    "simulation_of_stock()"
   ]
  },
  {
   "cell_type": "code",
   "execution_count": 73,
   "metadata": {},
   "outputs": [
    {
     "name": "stdout",
     "output_type": "stream",
     "text": [
      "please input the name of your stock(ticket):aapl,goog,amzn\n",
      "please input the number of year:20\n"
     ]
    },
    {
     "data": {
      "image/png": "[encoded data removed]",
      "text/plain": [
       "<matplotlib.figure.Figure at 0x2acf492ed68>"
      ]
     },
     "metadata": {},
     "output_type": "display_data"
    },
    {
     "name": "stdout",
     "output_type": "stream",
     "text": [
      "work done!\n"
     ]
    }
   ],
   "source": [
    "# if we try to input the right input\n",
    "simulation_of_stock()"
   ]
  },
  {
   "cell_type": "markdown",
   "metadata": {},
   "source": [
    "** thank you for your grading!**"
   ]
  }
 ],
 "metadata": {
  "kernelspec": {
   "display_name": "Python 3",
   "language": "python",
   "name": "python3"
  },
  "language_info": {
   "codemirror_mode": {
    "name": "ipython",
    "version": 3
   },
   "file_extension": ".py",
   "mimetype": "text/x-python",
   "name": "python",
   "nbconvert_exporter": "python",
   "pygments_lexer": "ipython3",
   "version": "3.6.4"
  }
 },
 "nbformat": 4,
 "nbformat_minor": 2
}
