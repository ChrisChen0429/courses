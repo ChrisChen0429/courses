{
 "cells": [
  {
   "cell_type": "markdown",
   "metadata": {},
   "source": [
    "# Extra Credit Assignment 1\n",
    "\n",
    "- One way to represent a CSV file's content is a \"dictionary of dictionaries.\"\n",
    "    - Each row on the CSV file maps to a Python dictionary.\n",
    "        - The keys for the dictionary representing the row come from the CSV file's header row.\n",
    "        - The values for the dictionary representing the row come from the data in the row's columns.\n",
    "    - One of the columns becomes the \"key\" for identifying a dictionary row in the dictionary representing the file.\n",
    "\n",
    "\n",
    "- Consider the CSV file below.\n",
    "```\n",
    "Word,Relative_Frequency,User_Created,Times_Selected,Frequency,Original\n",
    "the,1,,0,\"1,086,322,084\",\n",
    "and,0.524925431,True,11,\"570,238,088\",\n",
    "to,0.522060324,,0,\"567,125,659\",\n",
    "```\n",
    "\n",
    "\n",
    "- We could identify the column ```Word``` to the the column identifying rows. In this case, the dictionary would have the following logical structure\n",
    "\n",
    "```\n",
    "{\n",
    "  \"the\": {\n",
    "    \"Word\": \"the\",\n",
    "    \"Relative_Frequency\": \"1\",\n",
    "    \"User_Created\": \"\",\n",
    "    \"Times_Selected\": \"0\",\n",
    "    \"Frequency\": \"1,086,322,084\",\n",
    "    \"Original\": \"\"\n",
    "  },\n",
    "  \"and\": {\n",
    "    \"Word\": \"and\",\n",
    "    \"Relative_Frequency\": \"0.524925431\",\n",
    "    \"User_Created\": \"True\",\n",
    "    \"Times_Selected\": \"11\",\n",
    "    \"Frequency\": \"570,238,088\",\n",
    "    \"Original\": \"\",\n",
    "    \"Time_Selected\": 1\n",
    "  },\n",
    "  \"to\": {\n",
    "    \"Word\": \"to\",\n",
    "    \"Relative_Frequency\": \"0.522060324\",\n",
    "    \"User_Created\": \"\",\n",
    "    \"Times_Selected\": \"0\",\n",
    "    \"Frequency\": \"567,125,659\",\n",
    "    \"Original\": \"\"\n",
    "  }\n",
    "}\n",
    "```"
   ]
  },
  {
   "cell_type": "markdown",
   "metadata": {},
   "source": [
    "- For the extra-credit assignment, you will implement the functions below. The functions should work for any CSV file with a header row and correct formatting, e.g. each row has the correct number of columns/fields.\n"
   ]
  },
  {
   "cell_type": "code",
   "execution_count": 108,
   "metadata": {},
   "outputs": [],
   "source": [
    "class dictionary_nonoo(object):\n",
    "    \n",
    "    def load(self,fn,key_column):\n",
    "        # Your Code goes here\n",
    "        import csv\n",
    "        global file_name\n",
    "        file_name = fn\n",
    "        \n",
    "        with open(fn) as f:\n",
    "            f_csv = f.readlines()\n",
    "            col_name = f_csv[0].replace(\"\\n\",\"\").split(\",\")\n",
    "            data = {}\n",
    "            for i in col_name:\n",
    "                input_file = csv.DictReader(open(fn))\n",
    "                this_col = []\n",
    "                for row in input_file:\n",
    "                    this_col.append(row[i])\n",
    "                data[i] = this_col\n",
    "        global result\n",
    "        result = {}\n",
    "        for i in data[key_column]:\n",
    "            index = data[key_column].index(i)\n",
    "            value = {}\n",
    "            for j in data.keys():\n",
    "                value[j] = data[j][index]\n",
    "            result[i] = value    \n",
    "\n",
    "    # Get an entry\n",
    "    def get_entry(self,k):\n",
    "        # Your Code goes here\n",
    "        return result[k]\n",
    "\n",
    "    # Add a new entry\n",
    "    def add_entry(self,k, v):\n",
    "        # Your Code goes here\n",
    "        result[k] = v\n",
    "        \n",
    "    # Update the value of an entry\n",
    "    def set_entry(self,k, v):\n",
    "        # Your Code goes here\n",
    "        result[k] = v\n",
    "\n",
    "    # Get the value associated with key c in dictionary entry associated with k\n",
    "    def get_cell(self,k, c):\n",
    "        # Your Code goes here\n",
    "        return result[k][c]\n",
    "\n",
    "    # Set the entry\n",
    "    def set_cell(self,k, c, v):\n",
    "        # Your Code goes here\n",
    "        result[k][c] = v\n",
    "    \n",
    "    def save(self):\n",
    "        values = []\n",
    "        header = []\n",
    "        for i in result.values():\n",
    "            values.append(i)\n",
    "        for j in values[0].keys():\n",
    "            header.append(j)\n",
    "        rows = []\n",
    "        for i in result.values():\n",
    "            values = []\n",
    "            values.append(i)\n",
    "            thisrow = []\n",
    "            for j in header:\n",
    "                thisrow.append(values[0][j])\n",
    "            thisrow = tuple(thisrow)\n",
    "            rows.append(thisrow)\n",
    "        \n",
    "        import csv\n",
    "        with open(file_name,\"w\") as f1:\n",
    "            write = csv.writer(f1)\n",
    "            write.writerow(header)\n",
    "            write.writerows(rows)\n",
    "    \n",
    "    # Json\n",
    "    def to_str(self):\n",
    "        import json\n",
    "        result1 = json.dumps(result,indent=3)\n",
    "        return result1"
   ]
  },
  {
   "cell_type": "markdown",
   "metadata": {},
   "source": [
    "- Some sample function calls using the small file above are:"
   ]
  },
  {
   "cell_type": "code",
   "execution_count": 109,
   "metadata": {
    "scrolled": true
   },
   "outputs": [
    {
     "name": "stdout",
     "output_type": "stream",
     "text": [
      "{\n",
      "   \"the\": {\n",
      "      \"Word\": \"the\",\n",
      "      \"Relative_Frequency\": \"1\",\n",
      "      \"User_Created\": \"\",\n",
      "      \"Times_Selected\": \"0\",\n",
      "      \"Frequency\": \"1,086,322,084\",\n",
      "      \"Original\": \"\"\n",
      "   },\n",
      "   \"and\": {\n",
      "      \"Word\": \"and\",\n",
      "      \"Relative_Frequency\": \"0.524925431\",\n",
      "      \"User_Created\": \"TRUE\",\n",
      "      \"Times_Selected\": \"11\",\n",
      "      \"Frequency\": \"570,238,088\",\n",
      "      \"Original\": \"\"\n",
      "   },\n",
      "   \"to\": {\n",
      "      \"Word\": \"to\",\n",
      "      \"Relative_Frequency\": \"0.522060324\",\n",
      "      \"User_Created\": \"\",\n",
      "      \"Times_Selected\": \"0\",\n",
      "      \"Frequency\": \"567,125,659\",\n",
      "      \"Original\": \"\"\n",
      "   }\n",
      "}\n"
     ]
    }
   ],
   "source": [
    "d = dictionary_nonoo()\n",
    "d.load(\"really-small.csv\",\"Word\")\n",
    "print(d.to_str())"
   ]
  },
  {
   "cell_type": "code",
   "execution_count": 110,
   "metadata": {},
   "outputs": [],
   "source": [
    "d.add_entry(\"coney\", { \"Word\": \"coney\", \"Relative_Frequency\": 0, \"User_Created\": \"\", \"Times_Selected\": 0, \\\n",
    "                     \"Frequency\": 1, \"Original\": \"con\"})"
   ]
  },
  {
   "cell_type": "code",
   "execution_count": 111,
   "metadata": {},
   "outputs": [
    {
     "name": "stdout",
     "output_type": "stream",
     "text": [
      "Data for 'to' is  {'Word': 'to', 'Relative_Frequency': '0.522060324', 'User_Created': '', 'Times_Selected': '0', 'Frequency': '567,125,659', 'Original': ''}\n"
     ]
    }
   ],
   "source": [
    "print(\"Data for 'to' is \", d.get_entry(\"to\"))"
   ]
  },
  {
   "cell_type": "code",
   "execution_count": 112,
   "metadata": {},
   "outputs": [
    {
     "name": "stdout",
     "output_type": "stream",
     "text": [
      "'to' was selected  0 times.\n",
      "'to' was NOW selected  1 times.\n"
     ]
    }
   ],
   "source": [
    "to_selected = int(d.get_cell(\"to\", \"Times_Selected\"))\n",
    "print(\"'to' was selected \", to_selected, 'times.')\n",
    "d.set_cell(\"to\", \"Times_Selected\", to_selected+1)\n",
    "print(\"'to' was NOW selected \", d.get_cell(\"to\", \"Times_Selected\"), 'times.')"
   ]
  },
  {
   "cell_type": "code",
   "execution_count": 113,
   "metadata": {},
   "outputs": [],
   "source": [
    "d.save()"
   ]
  },
  {
   "cell_type": "code",
   "execution_count": 114,
   "metadata": {
    "scrolled": true
   },
   "outputs": [
    {
     "name": "stdout",
     "output_type": "stream",
     "text": [
      "{\n",
      "   \"the\": {\n",
      "      \"Word\": \"the\",\n",
      "      \"Relative_Frequency\": \"1\",\n",
      "      \"User_Created\": \"\",\n",
      "      \"Times_Selected\": \"0\",\n",
      "      \"Frequency\": \"1,086,322,084\",\n",
      "      \"Original\": \"\"\n",
      "   },\n",
      "   \"and\": {\n",
      "      \"Word\": \"and\",\n",
      "      \"Relative_Frequency\": \"0.524925431\",\n",
      "      \"User_Created\": \"TRUE\",\n",
      "      \"Times_Selected\": \"11\",\n",
      "      \"Frequency\": \"570,238,088\",\n",
      "      \"Original\": \"\"\n",
      "   },\n",
      "   \"to\": {\n",
      "      \"Word\": \"to\",\n",
      "      \"Relative_Frequency\": \"0.522060324\",\n",
      "      \"User_Created\": \"\",\n",
      "      \"Times_Selected\": \"1\",\n",
      "      \"Frequency\": \"567,125,659\",\n",
      "      \"Original\": \"\"\n",
      "   },\n",
      "   \"coney\": {\n",
      "      \"Word\": \"coney\",\n",
      "      \"Relative_Frequency\": \"0\",\n",
      "      \"User_Created\": \"\",\n",
      "      \"Times_Selected\": \"0\",\n",
      "      \"Frequency\": \"1\",\n",
      "      \"Original\": \"con\"\n",
      "   }\n",
      "}\n"
     ]
    }
   ],
   "source": [
    "d.load(\"really-small.csv\",\"Word\")\n",
    "print(d.to_str())"
   ]
  },
  {
   "cell_type": "markdown",
   "metadata": {},
   "source": [
    "- For the submission\n",
    "    - Test your functions for two different CSV files. The files must have different columns and use different key columns.\n",
    "    - The tests for each file require\n",
    "        - Loading the file\n",
    "        - Print the file\n",
    "        - Calling each function at least once\n",
    "        - Saving the the file\n",
    "        - Reloading and reprinting the file."
   ]
  },
  {
   "cell_type": "markdown",
   "metadata": {},
   "source": [
    "## Remark!\n",
    "1. for this extra credit, I created a class to handle this problem and I use json and csv package both are The Python Standard Library.\n",
    "2. I use the class which I write in the jupyter file. Thus I DO NOT have to import the package. And I DO NOT create a separate file to save the class.\n",
    "3. I use two files (really_small.csv) and (happy.csv). For the first one I have test the result as the professor's example. "
   ]
  },
  {
   "cell_type": "markdown",
   "metadata": {},
   "source": [
    "## self test one (more test on really_small.csv)"
   ]
  },
  {
   "cell_type": "code",
   "execution_count": 115,
   "metadata": {},
   "outputs": [
    {
     "name": "stdout",
     "output_type": "stream",
     "text": [
      "{\n",
      "   \"the\": {\n",
      "      \"Word\": \"the\",\n",
      "      \"Relative_Frequency\": \"1\",\n",
      "      \"User_Created\": \"\",\n",
      "      \"Times_Selected\": \"0\",\n",
      "      \"Frequency\": \"1,086,322,084\",\n",
      "      \"Original\": \"\"\n",
      "   },\n",
      "   \"and\": {\n",
      "      \"Word\": \"and\",\n",
      "      \"Relative_Frequency\": \"0.524925431\",\n",
      "      \"User_Created\": \"TRUE\",\n",
      "      \"Times_Selected\": \"11\",\n",
      "      \"Frequency\": \"570,238,088\",\n",
      "      \"Original\": \"\"\n",
      "   },\n",
      "   \"to\": {\n",
      "      \"Word\": \"to\",\n",
      "      \"Relative_Frequency\": \"0.522060324\",\n",
      "      \"User_Created\": \"\",\n",
      "      \"Times_Selected\": \"1\",\n",
      "      \"Frequency\": \"567,125,659\",\n",
      "      \"Original\": \"\"\n",
      "   },\n",
      "   \"coney\": {\n",
      "      \"Word\": \"coney\",\n",
      "      \"Relative_Frequency\": \"0\",\n",
      "      \"User_Created\": \"\",\n",
      "      \"Times_Selected\": \"0\",\n",
      "      \"Frequency\": \"1\",\n",
      "      \"Original\": \"con\"\n",
      "   }\n",
      "}\n"
     ]
    }
   ],
   "source": [
    "d = dictionary_nonoo()\n",
    "d.load(\"really-small.csv\",\"Word\")\n",
    "print(d.to_str())"
   ]
  },
  {
   "cell_type": "code",
   "execution_count": 116,
   "metadata": {},
   "outputs": [],
   "source": [
    "d.add_entry(\"python\", { \"Word\": \"python\", \"Relative_Frequency\": 5, \"User_Created\": \"True\", \"Times_Selected\": 0, \\\n",
    "                     \"Frequency\": 1, \"Original\": \"perfect\"})"
   ]
  },
  {
   "cell_type": "code",
   "execution_count": 117,
   "metadata": {},
   "outputs": [
    {
     "name": "stdout",
     "output_type": "stream",
     "text": [
      "Data for 'python' is  {'Word': 'python', 'Relative_Frequency': 5, 'User_Created': 'True', 'Times_Selected': 0, 'Frequency': 1, 'Original': 'perfect'}\n"
     ]
    }
   ],
   "source": [
    "print(\"Data for 'python' is \", d.get_entry(\"python\"))"
   ]
  },
  {
   "cell_type": "code",
   "execution_count": 118,
   "metadata": {},
   "outputs": [
    {
     "name": "stdout",
     "output_type": "stream",
     "text": [
      "'python' was selected  0 times.\n",
      "'python' was NOW selected  5 times.\n"
     ]
    }
   ],
   "source": [
    "to_selected = int(d.get_cell(\"python\", \"Times_Selected\"))\n",
    "print(\"'python' was selected \", to_selected, 'times.')\n",
    "d.set_cell(\"python\", \"Times_Selected\", to_selected+5)\n",
    "print(\"'python' was NOW selected \", d.get_cell(\"python\", \"Times_Selected\"), 'times.')"
   ]
  },
  {
   "cell_type": "code",
   "execution_count": 119,
   "metadata": {},
   "outputs": [],
   "source": [
    "d.save()"
   ]
  },
  {
   "cell_type": "code",
   "execution_count": 120,
   "metadata": {},
   "outputs": [
    {
     "name": "stdout",
     "output_type": "stream",
     "text": [
      "{\n",
      "   \"the\": {\n",
      "      \"Word\": \"the\",\n",
      "      \"Relative_Frequency\": \"1\",\n",
      "      \"User_Created\": \"\",\n",
      "      \"Times_Selected\": \"0\",\n",
      "      \"Frequency\": \"1,086,322,084\",\n",
      "      \"Original\": \"\"\n",
      "   },\n",
      "   \"and\": {\n",
      "      \"Word\": \"and\",\n",
      "      \"Relative_Frequency\": \"0.524925431\",\n",
      "      \"User_Created\": \"TRUE\",\n",
      "      \"Times_Selected\": \"11\",\n",
      "      \"Frequency\": \"570,238,088\",\n",
      "      \"Original\": \"\"\n",
      "   },\n",
      "   \"to\": {\n",
      "      \"Word\": \"to\",\n",
      "      \"Relative_Frequency\": \"0.522060324\",\n",
      "      \"User_Created\": \"\",\n",
      "      \"Times_Selected\": \"1\",\n",
      "      \"Frequency\": \"567,125,659\",\n",
      "      \"Original\": \"\"\n",
      "   },\n",
      "   \"coney\": {\n",
      "      \"Word\": \"coney\",\n",
      "      \"Relative_Frequency\": \"0\",\n",
      "      \"User_Created\": \"\",\n",
      "      \"Times_Selected\": \"0\",\n",
      "      \"Frequency\": \"1\",\n",
      "      \"Original\": \"con\"\n",
      "   },\n",
      "   \"python\": {\n",
      "      \"Word\": \"python\",\n",
      "      \"Relative_Frequency\": \"5\",\n",
      "      \"User_Created\": \"True\",\n",
      "      \"Times_Selected\": \"5\",\n",
      "      \"Frequency\": \"1\",\n",
      "      \"Original\": \"perfect\"\n",
      "   }\n",
      "}\n"
     ]
    }
   ],
   "source": [
    "d.load(\"really-small.csv\",\"Word\")\n",
    "print(d.to_str())"
   ]
  },
  {
   "cell_type": "markdown",
   "metadata": {},
   "source": [
    "## self test two (happy.csv)"
   ]
  },
  {
   "cell_type": "code",
   "execution_count": 123,
   "metadata": {},
   "outputs": [
    {
     "name": "stdout",
     "output_type": "stream",
     "text": [
      "{\n",
      "   \"A+ score\": {\n",
      "      \"event\": \"A+ score\",\n",
      "      \"time_cost\": \"\\\"100 housrs+\\\"\",\n",
      "      \"money_cost\": \"0\",\n",
      "      \"level\": \"very high\"\n",
      "   },\n",
      "   \"great dinner\": {\n",
      "      \"event\": \"great dinner\",\n",
      "      \"time_cost\": \"\\\"1-2 hours\\\"\",\n",
      "      \"money_cost\": \"20\",\n",
      "      \"level\": \"median\"\n",
      "   },\n",
      "   \"gym\": {\n",
      "      \"event\": \"gym\",\n",
      "      \"time_cost\": \"\\\"1 hour\\\"\",\n",
      "      \"money_cost\": \"0\",\n",
      "      \"level\": \"low\"\n",
      "   }\n",
      "}\n"
     ]
    }
   ],
   "source": [
    "d = dictionary_nonoo()\n",
    "d.load(\"happy.csv\",\"event\")\n",
    "print(d.to_str())"
   ]
  },
  {
   "cell_type": "code",
   "execution_count": 124,
   "metadata": {},
   "outputs": [],
   "source": [
    "d.add_entry(\"have a girl friend\", { \"event\": \"have a girl friend\", \"time_cost\":\"Could be very large\" , \"money_cost\": \"not sure\", \"level\": \"cannot be higher\"})"
   ]
  },
  {
   "cell_type": "code",
   "execution_count": 125,
   "metadata": {},
   "outputs": [
    {
     "name": "stdout",
     "output_type": "stream",
     "text": [
      "Data for 'have a gril friend' is  {'event': 'have a girl friend', 'time_cost': 'Could be very large', 'money_cost': 'not sure', 'level': 'cannot be higher'}\n"
     ]
    }
   ],
   "source": [
    "print(\"Data for 'have a gril friend' is \", d.get_entry(\"have a girl friend\"))"
   ]
  },
  {
   "cell_type": "code",
   "execution_count": 126,
   "metadata": {},
   "outputs": [],
   "source": [
    "d.save()"
   ]
  },
  {
   "cell_type": "code",
   "execution_count": 129,
   "metadata": {},
   "outputs": [
    {
     "name": "stdout",
     "output_type": "stream",
     "text": [
      "{\n",
      "   \"A+ score\": {\n",
      "      \"event\": \"A+ score\",\n",
      "      \"time_cost\": \"\\\"100 housrs+\\\"\",\n",
      "      \"money_cost\": \"0\",\n",
      "      \"level\": \"very high\"\n",
      "   },\n",
      "   \"great dinner\": {\n",
      "      \"event\": \"great dinner\",\n",
      "      \"time_cost\": \"\\\"1-2 hours\\\"\",\n",
      "      \"money_cost\": \"20\",\n",
      "      \"level\": \"median\"\n",
      "   },\n",
      "   \"gym\": {\n",
      "      \"event\": \"gym\",\n",
      "      \"time_cost\": \"\\\"1 hour\\\"\",\n",
      "      \"money_cost\": \"0\",\n",
      "      \"level\": \"low\"\n",
      "   },\n",
      "   \"have a girl friend\": {\n",
      "      \"event\": \"have a girl friend\",\n",
      "      \"time_cost\": \"Could be very large\",\n",
      "      \"money_cost\": \"not sure\",\n",
      "      \"level\": \"cannot be higher\"\n",
      "   }\n",
      "}\n"
     ]
    }
   ],
   "source": [
    "d.load(\"happy.csv\",\"event\")\n",
    "print(d.to_str())"
   ]
  }
 ],
 "metadata": {
  "kernelspec": {
   "display_name": "Python 3",
   "language": "python",
   "name": "python3"
  },
  "language_info": {
   "codemirror_mode": {
    "name": "ipython",
    "version": 3
   },
   "file_extension": ".py",
   "mimetype": "text/x-python",
   "name": "python",
   "nbconvert_exporter": "python",
   "pygments_lexer": "ipython3",
   "version": "3.6.4"
  },
  "toc": {
   "nav_menu": {},
   "number_sections": true,
   "sideBar": true,
   "skip_h1_title": false,
   "title_cell": "Table of Contents",
   "title_sidebar": "Contents",
   "toc_cell": false,
   "toc_position": {},
   "toc_section_display": true,
   "toc_window_display": false
  }
 },
 "nbformat": 4,
 "nbformat_minor": 2
}
