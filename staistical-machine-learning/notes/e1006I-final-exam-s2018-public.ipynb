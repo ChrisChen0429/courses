{
 "cells": [
  {
   "cell_type": "markdown",
   "metadata": {},
   "source": [
    "<span style=\"font-size:32px;\">E1006 $-$ Spring 2018: Take Home Final Exam</span>\n",
    "\n",
    "__Completed by Donald F. Ferguson (dff9).__\n"
   ]
  },
  {
   "cell_type": "markdown",
   "metadata": {},
   "source": [
    "# Exam Overview and Instructions\n",
    "\n",
    "Homework assignments and exams have point values. Final grade depends on total point value. The range is 0 to 100 points. __This final exam is worth 30 points.__\n",
    "\n",
    "\n",
    "- Submission:\n",
    "    - The exam is due on 08-May-2018 at 4:00 PM. __You may not use grace days.__\n",
    "    - Submission:\n",
    "        - Submission for is a zip file. The zip file name must be youruni_e1006s_final.zip. For example, my submission would be dff9_e1006_final.zip.\n",
    "            - The zip file must contain a RENAMED, completed version of this Jupyter notebook.The renamed notebook must be yourunit_e1006s_final.ipynb. For example, my submission would be dff9_e1006s_final.ipynb.\n",
    "            - The submitted Jupyter notebook is a copy of this Jupyter Notebook with your solutions entered into the code cells, test cells and comments for each question. \n",
    "            - You must replace the __Completed by ...__ with you name and UNI.\n",
    "            - The zip file must also contain any files your notebook uses or that are part of your submission.where your and any files you use or access.\n",
    "        - You submit your homework on CourseWorks under \"Final Examination\" assignment.\n",
    "        - No other formats are allowed.\n",
    "        - If the notebook format is incorrect, the notebook is corrupted or we cannot execute the notebook, the grade is 0.\n",
    "        - Submissions after the due date and time are not allowed. Submissions not received on time receive a grade of 0.\n",
    "    - Respect for the individual is paramount. We will accommodate special circumstances, but we must be notified and discuss _in advance._\n",
    "    \n",
    "\n",
    "- Exam Rules:\n",
    "    - Please read and review the [Academic Integrity policy and guidelines](https://www.college.columbia.edu/academics/academicintegrity), including subsections and details. This material defines the rules for this exam regardless of your school.\n",
    "    - No collaboration of any form is permitted. You may not share material of any form, including links to on-line information, _information from the preparatory recitation section,_ suggestions or ideas, etc.\n",
    "    - You MAY use any on-line information you find, but may not directly use code you find. You must cite any on-line sources in the comments Markdown cell for each questions.\n",
    "    - You must privately send comments or questions to Professor Ferguson or one of the CA's via email. Your email's subject line MUST start with \"[E1006 FINAL].\" If questions or comments demonstrate a need for clarification or correction, Prof. Ferguson will update this document and post updates on Piazza. Students MUST NOT post questions, comments or discussion of the exam on Piazza or any forum.\n",
    "    \n",
    "    \n",
    "- Completing the exam:\n",
    "    - You may import and use any standard, built-in Python library unless explicitly stated otherwise. You may NOT use any other modules or libraries.\n",
    "    - There are 3 questions. Each question is worth 10 points.\n",
    "    - Each question has 5 sections:\n",
    "        1. Text defining the problem and solution requirement.\n",
    "        2. An empty notebook code cell, which is where you enter your solution to the problem.\n",
    "        3. A code cell that calls a solution I implemented, and which provides sample outputs from the solution. __You may not change this cell.__ You MUST execute this cell to determine if your solution produces the same output.\n",
    "        4. An empty code cell where you MAY enter your own test cases and print output. This section is optional but the CAs and I will run additional tests, and we recommend that you do additional tests. \n",
    "    - Questions ask you to \"write a function that ...\" You may decompose the problem and implement using additional functions to implement the requested function.\n",
    "    - You may choose any order for function parameters that you want. In some cases, correctly answering the question may require changing the order of the parameters.\n",
    "    - We will grade an answer on functional correctness and code quality.\n",
    "        - Please remember the rules from the textbook, \t\n",
    "            - Think before you program!\n",
    "            - A program is a human-readable essay on problem solving that also happens to execute on a computer.\n",
    "            - The best way to improve your programming and problem solving skills is to practice!\n",
    "            - A foolish consistency is the hobgoblin of little minds.\n",
    "            - Test your code, often and thoroughly.\n",
    "            - If it was hard to write, it is probably hard to read. Add a comment.\n",
    "            - All input is evil, unless proven otherwise.\n",
    "        - Your solution MUST NOT FAIL.\n",
    "            - Your code must prevent errors due to bad input or other error conditions.\n",
    "            - You MAY handle exceptions in your code. You may raise your own exceptions. You may also return a clear error value and print an error message.\n",
    "            - The graders and I will actively attempt to cause your procedure to fail with an un-handled exception.\n",
    "        - If the graders and I do not understand your code, it is wrong. \"A program is a human-readable essay on problem solving that also happens to execute on a computer.\"\n"
   ]
  },
  {
   "cell_type": "markdown",
   "metadata": {},
   "source": [
    "# Questions"
   ]
  },
  {
   "cell_type": "markdown",
   "metadata": {},
   "source": [
    "## Question 1: Arabic Chat Transliteration\n",
    "\n",
    " \n",
    "__Overview__\n",
    "\n",
    "\"The Arabic chat alphabet, also known as Arabish, Araby (Arabic: عربي‎, Arabī), Arabizi (عربيزي, Arabīzī), Mu'arrab (معرب), and Franco-Arabic, is an alphabet used to communicate in Arabic over the Internet or for sending messages via cellular phones. It is a character encoding of Arabic to the Latin script and the Arabic numerals. It differs from more formal and academic Arabic transliteration systems, as it avoids diacritics by freely using digits and multigraphs for letters that do not exist in the basic Latin script.\"<br>\n",
    "https://en.wikipedia.org/wiki/Arabic_chat_alphabet"
   ]
  },
  {
   "cell_type": "markdown",
   "metadata": {},
   "source": [
    "A code cell below  labelled __Character Sets__ creates two lists. ```arabic_letters``` is a subset of the Arabic letters. ```arabic_chat``` is the corresponding representation in Arabish. Note that some Arabic letters map to __two__ Latin letters/characters. This is called a diagraph(\"https://en.wikipedia.org/wiki/Digraph_(orthography)\" -- \"a combination of two letters representing one sound, as in ph and ey.\"\n",
    "\n",
    "For example,"
   ]
  },
  {
   "cell_type": "code",
   "execution_count": 209,
   "metadata": {},
   "outputs": [
    {
     "name": "stdout",
     "output_type": "stream",
     "text": [
      "ظ maps to 6'\n",
      "The mapping is to \"6'\" or 6 followed by a single quote.\n"
     ]
    }
   ],
   "source": [
    "print(arabic_letters[16], \"maps to\", arabic_chat[16])\n",
    "print(\"The mapping is to \\\"6'\\\" or 6 followed by a single quote.\")"
   ]
  },
  {
   "cell_type": "code",
   "execution_count": 210,
   "metadata": {},
   "outputs": [
    {
     "name": "stdout",
     "output_type": "stream",
     "text": [
      "and th maps to ث while t maps to ت\n"
     ]
    }
   ],
   "source": [
    "print(\"and\", arabic_chat[3], \"maps to\", arabic_letters[3], \"while\", arabic_chat[2], 'maps to', arabic_letters[2])"
   ]
  },
  {
   "cell_type": "markdown",
   "metadata": {},
   "source": [
    "You must implement a function ```my_transliterate(w, source, target, diagraph)```\n",
    "- Parameters\n",
    "    - ```w``` is a string of characters.\n",
    "    - ```source``` is the source character set for transliteration.\n",
    "    - ```target``` is the target character set for transliteration\n",
    "    - ```diagraph``` is an optional parameter, and is true if the source character set has entries with two characters, e.g. 'sh' or 'th'\n",
    "- The function returns the transliterated string.\n",
    "\n",
    "<u>Note:</u> Diagraph processing takes precedence. For example, this means that 'sh' always map ش and never to the individual character mappings for 's' and 'h' (س,ه)."
   ]
  },
  {
   "cell_type": "markdown",
   "metadata": {},
   "source": [
    "__Character Sets__"
   ]
  },
  {
   "cell_type": "code",
   "execution_count": 1,
   "metadata": {},
   "outputs": [
    {
     "name": "stdout",
     "output_type": "stream",
     "text": [
      "Arabic Letters =  ['ا', 'ب', 'ت', 'ث', 'ج', 'ح', 'خ', 'د', 'ذ', 'ر', 'ز', 'س', 'ش', 'ص', 'ض', 'ط', 'ظ', 'ع', 'غ', 'ف', 'ق', 'ك', 'ل', 'م', 'ن', 'ه', 'ة', 'و']\n",
      "Arabic Chat =  ['a', 'b', 't', 'th', 'dj', '7', 'kh', 'd', 'z', 'r', 'z', 's', 'sh', 's', 'dh', '6', \"6'\", '3', 'gh', 'f', 'q', 'k', 'l', 'm', 'n', 'h', 'at', 'w']\n"
     ]
    }
   ],
   "source": [
    "arabic_letters = ['ا',\n",
    " 'ب',\n",
    " 'ت',\n",
    " 'ث',\n",
    " 'ج',\n",
    " 'ح',\n",
    " 'خ',\n",
    " 'د',\n",
    " 'ذ',\n",
    " 'ر',\n",
    " 'ز',\n",
    " 'س',\n",
    " 'ش',\n",
    " 'ص',\n",
    " 'ض',\n",
    " 'ط',\n",
    " 'ظ',\n",
    " 'ع',\n",
    " 'غ',\n",
    " 'ف',\n",
    " 'ق',\n",
    " 'ك',\n",
    " 'ل',\n",
    " 'م',\n",
    " 'ن',\n",
    " 'ه',\n",
    " 'ة',\n",
    " 'و']\n",
    "\n",
    "arabic_chat = ['a',\n",
    " 'b',\n",
    " 't',\n",
    " 'th',\n",
    " 'dj',\n",
    " '7',\n",
    " 'kh',\n",
    " 'd',\n",
    " 'z',\n",
    " 'r',\n",
    " 'z',\n",
    " 's',\n",
    " 'sh',\n",
    " 's',\n",
    " 'dh',\n",
    " '6',\n",
    " \"6'\",\n",
    " '3',\n",
    " 'gh',\n",
    " 'f',\n",
    " 'q',\n",
    " 'k',\n",
    " 'l',\n",
    " 'm',\n",
    " 'n',\n",
    " 'h',\n",
    " 'at',\n",
    " 'w']\n",
    "\n",
    "print(\"Arabic Letters = \", arabic_letters)\n",
    "print(\"Arabic Chat = \", arabic_chat)"
   ]
  },
  {
   "cell_type": "markdown",
   "metadata": {},
   "source": [
    "__Your Implementation__"
   ]
  },
  {
   "cell_type": "code",
   "execution_count": 180,
   "metadata": {
    "collapsed": true
   },
   "outputs": [],
   "source": [
    "def my_transliterate(w, source, target, diagraph = False):\n",
    "    if diagraph == True:\n",
    "        double = []\n",
    "        for i in range(len(w)):\n",
    "            if i < len(w)-1:\n",
    "                double.append(w[i] + w[i+1])\n",
    "        position = []\n",
    "        for i in range(len(double)):\n",
    "            if double[i] in source:\n",
    "                position.append(w.index(double[i]))\n",
    "        newposition = []\n",
    "        for i in position:\n",
    "            newposition = newposition + [i,i+1]\n",
    "        y = list(range(len(w)))\n",
    "        singleposition = list(set(y).difference(set(newposition)))\n",
    "        index = sorted(singleposition + position)\n",
    "        newindex = []\n",
    "        for i in index:\n",
    "            if i < len(w)-1:\n",
    "                if i + 1 in index:\n",
    "                    try:\n",
    "                        newindex.append(source.index(w[i]))\n",
    "                    except ValueError:\n",
    "                        print(('Not a valid chat string at position ', i, 'symbol=', w[i]))\n",
    "                if i + 1 not in index:\n",
    "                    try:\n",
    "                        newindex.append(source.index(w[i]+w[i+1]))\n",
    "                    except ValueError:\n",
    "                        print(('Not a valid chat string at position ', i, 'symbol=', w[i]))\n",
    "            if i == len(w)-1:\n",
    "                try:\n",
    "                    newindex.append(source.index(w[i]))\n",
    "                except ValueError:\n",
    "                    print(('Not a valid chat string at position ', i, 'symbol=', w[i]))\n",
    "        arabic = ''\n",
    "        if len(newindex)==len(index):\n",
    "            for i in newindex:\n",
    "                arabic = arabic + target[i]\n",
    "    else:\n",
    "        position = []\n",
    "        for i in range(len(w)):\n",
    "            position.append(w[i])\n",
    "        arabic = ''\n",
    "        for i in range(len(position)):\n",
    "            try:\n",
    "                arabic = arabic + target[source.index(w[i])]\n",
    "            except ValueError:\n",
    "                print(('Not a valid chat string at position ', i, 'symbol=', w[i]))\n",
    "    return arabic\n"
   ]
  },
  {
   "cell_type": "code",
   "execution_count": 171,
   "metadata": {},
   "outputs": [
    {
     "data": {
      "text/plain": [
       "'شكرا'"
      ]
     },
     "execution_count": 171,
     "metadata": {},
     "output_type": "execute_result"
    }
   ],
   "source": [
    "z = 'shkra'\n",
    "my_transliterate(z,arabic_chat,arabic_letters,True)"
   ]
  },
  {
   "cell_type": "code",
   "execution_count": 172,
   "metadata": {},
   "outputs": [
    {
     "data": {
      "text/plain": [
       "'بنت'"
      ]
     },
     "execution_count": 172,
     "metadata": {},
     "output_type": "execute_result"
    }
   ],
   "source": [
    "z = 'bnt'\n",
    "my_transliterate(z,arabic_chat,arabic_letters,True)"
   ]
  },
  {
   "cell_type": "code",
   "execution_count": 173,
   "metadata": {},
   "outputs": [
    {
     "name": "stdout",
     "output_type": "stream",
     "text": [
      "('Not a valid chat string at position ', 1, 'symbol=', 'x')\n"
     ]
    }
   ],
   "source": [
    "z = 'bxt'\n",
    "try:\n",
    "    my_transliterate(z, arabic_chat, arabic_letters, True)\n",
    "except ValueError as e:\n",
    "    print(e)    "
   ]
  },
  {
   "cell_type": "code",
   "execution_count": 175,
   "metadata": {},
   "outputs": [
    {
     "name": "stdout",
     "output_type": "stream",
     "text": [
      "('Not a valid chat string at position ', 1, 'symbol=', 'q')\n"
     ]
    }
   ],
   "source": [
    "try:\n",
    "    z = 'بqنت'\n",
    "    my_transliterate(z, arabic_letters, arabic_chat)\n",
    "except ValueError as e:\n",
    "    print(e)"
   ]
  },
  {
   "cell_type": "code",
   "execution_count": 177,
   "metadata": {},
   "outputs": [
    {
     "name": "stdout",
     "output_type": "stream",
     "text": [
      "('Not a valid chat string at position ', 1, 'symbol=', 'x')\n"
     ]
    },
    {
     "data": {
      "text/plain": [
       "'بت'"
      ]
     },
     "execution_count": 177,
     "metadata": {},
     "output_type": "execute_result"
    }
   ],
   "source": [
    "z = 'bxt'\n",
    "my_transliterate(z, arabic_chat, arabic_letters, True)"
   ]
  },
  {
   "cell_type": "markdown",
   "metadata": {},
   "source": [
    "__Mandatory Tests__"
   ]
  },
  {
   "cell_type": "code",
   "execution_count": 181,
   "metadata": {},
   "outputs": [
    {
     "name": "stdout",
     "output_type": "stream",
     "text": [
      "shkra transliterates to شكرا which transliterates to shkra\n",
      "bnt transliterates to بنت which transliterates to bnt\n",
      "('Not a valid chat string at position ', 1, 'symbol=', 'x')\n",
      "bxt transliterates to  which transliterates to \n",
      "بنت transliterates to bnt which transliterates to بنت\n",
      "('Not a valid chat string at position ', 1, 'symbol=', 'q')\n",
      "بqنت transliterates to  which transliterates to \n"
     ]
    }
   ],
   "source": [
    "try:\n",
    "    z = 'shkra'\n",
    "    x = my_transliterate(z, arabic_chat, arabic_letters, True)\n",
    "    y = my_transliterate(x, arabic_letters, arabic_chat)\n",
    "    print(z, 'transliterates to', x, 'which transliterates to', y)\n",
    "except ValueError as e:\n",
    "    print(e)\n",
    "\n",
    "try:\n",
    "    z = 'bnt'\n",
    "    x = my_transliterate(z, arabic_chat, arabic_letters, True)\n",
    "    y = my_transliterate(x, arabic_letters, arabic_chat)\n",
    "    print(z, 'transliterates to', x, 'which transliterates to', y)\n",
    "except ValueError as e:\n",
    "    print(e)\n",
    "\n",
    "try:\n",
    "    z = 'bxt'\n",
    "    x = my_transliterate(z, arabic_chat, arabic_letters, True)\n",
    "    y = my_transliterate(x, arabic_letters, arabic_chat)\n",
    "    print(z, 'transliterates to', x, 'which transliterates to', y)\n",
    "except ValueError as e:\n",
    "    print(e)\n",
    "\n",
    "try:\n",
    "    z = 'بنت'\n",
    "    x = my_transliterate(z, arabic_letters, arabic_chat)\n",
    "    y = my_transliterate(x, arabic_chat, arabic_letters, True)\n",
    "    print(z, 'transliterates to', x, 'which transliterates to', y)\n",
    "except ValueError as e:\n",
    "    print(e)\n",
    "\n",
    "try:\n",
    "    z = 'بqنت'\n",
    "    x = my_transliterate(z, arabic_letters, arabic_chat, True)\n",
    "    y = my_transliterate(x, arabic_chat, arabic_letters)\n",
    "    print(z, 'transliterates to', x, 'which transliterates to', y)\n",
    "except ValueError as e:\n",
    "    print(e)"
   ]
  },
  {
   "cell_type": "markdown",
   "metadata": {},
   "source": [
    "__Your Tests__"
   ]
  },
  {
   "cell_type": "code",
   "execution_count": null,
   "metadata": {
    "collapsed": true
   },
   "outputs": [],
   "source": []
  },
  {
   "cell_type": "markdown",
   "metadata": {},
   "source": [
    "__Comments__"
   ]
  },
  {
   "cell_type": "markdown",
   "metadata": {},
   "source": [
    "## Question 2: Parity Bit/Error Correcting \n",
    "\n",
    "__Overview__\n",
    "\n",
    "- \"A parity bit, or check bit, is a bit added to a string of binary code to ensure that the total number of 1-bits in the string is even or odd. Parity bits are used as the simplest form of error detecting code.\" (https://en.wikipedia.org/wiki/Parity_bit)\n",
    "\n",
    "\n",
    "- A byte is 8-bits. Various forms of physical interference or errors can corrupt a bit in transmission, in memory, on a disk, etc. Assume that a bit can be in one of 3 states: 0, 1, U. U indicates that 0/1 state of the bit is uncertain.\n",
    "\n",
    "\n",
    "- Implement two Python classes\n",
    "    - ```CorrectingByte``` implements the core logic for a parity correcting byte.\n",
    "        - The constructor raises an exception if the data fails a parity check or has more than one 'U' value. If that data has a single 'U', the constructor corrects the data or parity bit.\n",
    "        - The method ```set_byte(b)``` sets the object's value. The method:\n",
    "            - Sets the value if the byte passes parity check or is has a single 'U'. \n",
    "            - If the data has a single 'U', the method corrects the byte or parity bit.\n",
    "            - Raise the exception is the byte has more than one 'U' or fails parity check.\n",
    "        - ```get_byte()``` returns the correct value of a byte or raises an exception if the byte has become corrupted while stored.\n",
    "        - ```flip_bit(i, v, p)``` allows a program to simulate a random change in a bit's value. ```p``` is an optional value. If ```p``` is not ```None``` the method sets the parity bit to ```v```. If ```p``` is ```None,``` the method sets the i-th bit in the byte to ```v.```\n",
    "    - ```AbstractBit``` has a constructor, and methods ```set_bit(v)``` and ```get_bit().``` The class ensures that a bit's value is one of 1, 0, U. The class may require additional methods.\n",
    "\n"
   ]
  },
  {
   "cell_type": "markdown",
   "metadata": {},
   "source": [
    "__Implementation__"
   ]
  },
  {
   "cell_type": "code",
   "execution_count": 215,
   "metadata": {
    "collapsed": true
   },
   "outputs": [],
   "source": []
  },
  {
   "cell_type": "markdown",
   "metadata": {},
   "source": [
    "__Mandatory Test Cases__"
   ]
  },
  {
   "cell_type": "code",
   "execution_count": 216,
   "metadata": {},
   "outputs": [
    {
     "name": "stdout",
     "output_type": "stream",
     "text": [
      "Test1:\n",
      "(11111111,0)\n",
      "Test2:\n",
      "test2 - ve =  Byte and parity corrupted due to multiple errors.\n",
      "Test3:\n",
      "(10111111,1)\n",
      "test4:\n",
      "(11100111,0)\n",
      "Test5:\n",
      "(11100111,0)\n",
      "Test6:\n",
      "(11100111,0)\n",
      "Test7:\n",
      "test7 - ve =  Too many U bits.\n",
      "Test8:\n",
      "(10100111,1)\n"
     ]
    }
   ],
   "source": [
    "def test1():\n",
    "    print(\"Test1:\")\n",
    "    b = CorrectingByte(('11111111', '0'))\n",
    "    print(str(b))\n",
    "\n",
    "\n",
    "def test2():\n",
    "    print(\"Test2:\")\n",
    "    try:\n",
    "        b = CorrectingByte(('11111111', '1'))\n",
    "        print(str(b))\n",
    "    except ValueError as ve:\n",
    "        print(\"test2 - ve = \", ve)\n",
    "\n",
    "\n",
    "def test3():\n",
    "    print(\"Test3:\")\n",
    "    b = CorrectingByte(('10111111', '1'))\n",
    "    print(str(b))\n",
    "\n",
    "\n",
    "\n",
    "def test4():\n",
    "    print(\"test4:\")\n",
    "    try:\n",
    "        b = CorrectingByte(('11100111', '0'))\n",
    "        print(str(b))\n",
    "    except ValueError as ve:\n",
    "        print(\"test25 - ve = \", ve)\n",
    "\n",
    "\n",
    "def test5():\n",
    "    print(\"Test5:\")\n",
    "    try:\n",
    "        b = CorrectingByte(('111U0111', '0'))\n",
    "        print(str(b))\n",
    "    except ValueError as ve:\n",
    "        print(\"test5 - ve = \", ve)\n",
    "\n",
    "\n",
    "def test6():\n",
    "    print(\"Test6:\")\n",
    "    try:\n",
    "        b = CorrectingByte(('11100111', 'U'))\n",
    "        print(str(b))\n",
    "    except ValueError as ve:\n",
    "        print(\"test6 - ve = \", ve)\n",
    "\n",
    "def test7():\n",
    "    print(\"Test7:\")\n",
    "    try:\n",
    "        b = CorrectingByte(('1U100111', 'U'))\n",
    "        print(str(b))\n",
    "    except ValueError as ve:\n",
    "        print(\"test7 - ve = \", ve)\n",
    "        \n",
    "def test8():\n",
    "    print(\"Test8:\")\n",
    "    try:\n",
    "        b = CorrectingByte(('10100111', '1'))\n",
    "        b.flip_bit(2,'U')\n",
    "        v = b.get_byte()\n",
    "        print(str(v))\n",
    "    except ValueError as ve:\n",
    "        print(\"test8 - ve = \", ve)\n",
    "\n",
    "test1()\n",
    "test2()\n",
    "test3()\n",
    "test4()\n",
    "test5()\n",
    "test6()\n",
    "test7()\n",
    "test8()"
   ]
  },
  {
   "cell_type": "markdown",
   "metadata": {},
   "source": [
    "__Your Test Cases__"
   ]
  },
  {
   "cell_type": "code",
   "execution_count": null,
   "metadata": {
    "collapsed": true
   },
   "outputs": [],
   "source": []
  },
  {
   "cell_type": "markdown",
   "metadata": {},
   "source": [
    "__Comments__"
   ]
  },
  {
   "cell_type": "markdown",
   "metadata": {},
   "source": [
    "## Question 3: Computing Football Table"
   ]
  },
  {
   "cell_type": "markdown",
   "metadata": {},
   "source": [
    "__Overview__\n",
    "\n",
    "- \"The Premier League is the top level of the English football league system. ... ... There are 20 clubs in the Premier League. During the course of a season (from August to May) each club plays the others twice (a double round-robin system), once at their home stadium and once at that of their opponents', for a total of 38 games. Teams receive three points for a win and one point for a draw. No points are awarded for a loss. Teams are ranked by total points, then goal difference, and then goals scored.\" (https://en.wikipedia.org/wiki/Premier_League)\n",
    "\n",
    "\n",
    "- The file epl2016.csv contains game-by-game results from the 2016-2017 season. The file contains many columns. Only the following contribute to the computation of final standings:\n",
    "    - HomeTeam\n",
    "    - AwayTeam\n",
    "    - FTHG: The number of goals the home team scored.\n",
    "    - FTAG: The number of goals the away team scored.\n",
    "    - FTR: Is 'H', if the home team won, 'A' if the away team won and 'D' if the match was a draw. "
   ]
  },
  {
   "cell_type": "markdown",
   "metadata": {},
   "source": [
    "<u>Tasks</u>\n",
    "\n",
    "You will implement several functions. Your functions will use Pandas and matplotlib.pyplot.\n",
    "\n",
    "- ```load_epl_games(file_name)``` loads the file and creates a Pandas data frame containing the contents.\n",
    "\n",
    "\n",
    "- ```get_points(team, table)``` takes a team name and a Pandas data frame. The method returns the number of points that the team earned.\n",
    "\n",
    "\n",
    "- ```get_finish(team, table)``` returns the finishing position of a team.\n",
    "\n",
    "\n",
    "- ```compute_table(df)``` uses the finishing position rules to return the final table.\n",
    "    - The table is sorted by the finishing position rules.\n",
    "    - The columns are ```Team,``` ```Points,``` ```Goals``` and ```GoalDifference.```\n",
    "    \n",
    "    \n",
    "- ```display_hbar(tables)``` displays a horizontal bar chart.\n",
    "    - The bar chart is sorted from final position from 1st place to last place.\n",
    "    - The bar is the number of points.\n",
    "    "
   ]
  },
  {
   "cell_type": "code",
   "execution_count": 267,
   "metadata": {
    "collapsed": true
   },
   "outputs": [],
   "source": [
    "\n",
    "games = load_epl_games('epl2016.csv')\n",
    "final_table = compute_table(games)"
   ]
  },
  {
   "cell_type": "markdown",
   "metadata": {},
   "source": [
    "__Mandatory Tests__\n",
    "\n",
    "Note: Your bar chart does not need to be as \"pretty\" as the test below."
   ]
  },
  {
   "cell_type": "code",
   "execution_count": 257,
   "metadata": {
    "scrolled": false
   },
   "outputs": [
    {
     "data": {
      "text/html": [
       "<div>\n",
       "<style>\n",
       "    .dataframe thead tr:only-child th {\n",
       "        text-align: right;\n",
       "    }\n",
       "\n",
       "    .dataframe thead th {\n",
       "        text-align: left;\n",
       "    }\n",
       "\n",
       "    .dataframe tbody tr th {\n",
       "        vertical-align: top;\n",
       "    }\n",
       "</style>\n",
       "<table border=\"1\" class=\"dataframe\">\n",
       "  <thead>\n",
       "    <tr style=\"text-align: right;\">\n",
       "      <th></th>\n",
       "      <th>Points</th>\n",
       "      <th>GoalDifference</th>\n",
       "      <th>Goals</th>\n",
       "      <th>Finish</th>\n",
       "    </tr>\n",
       "    <tr>\n",
       "      <th>Team</th>\n",
       "      <th></th>\n",
       "      <th></th>\n",
       "      <th></th>\n",
       "      <th></th>\n",
       "    </tr>\n",
       "  </thead>\n",
       "  <tbody>\n",
       "    <tr>\n",
       "      <th>Chelsea</th>\n",
       "      <td>93</td>\n",
       "      <td>52</td>\n",
       "      <td>85</td>\n",
       "      <td>1</td>\n",
       "    </tr>\n",
       "    <tr>\n",
       "      <th>Tottenham</th>\n",
       "      <td>86</td>\n",
       "      <td>60</td>\n",
       "      <td>86</td>\n",
       "      <td>2</td>\n",
       "    </tr>\n",
       "    <tr>\n",
       "      <th>Man City</th>\n",
       "      <td>78</td>\n",
       "      <td>41</td>\n",
       "      <td>80</td>\n",
       "      <td>3</td>\n",
       "    </tr>\n",
       "    <tr>\n",
       "      <th>Liverpool</th>\n",
       "      <td>76</td>\n",
       "      <td>36</td>\n",
       "      <td>78</td>\n",
       "      <td>4</td>\n",
       "    </tr>\n",
       "    <tr>\n",
       "      <th>Arsenal</th>\n",
       "      <td>75</td>\n",
       "      <td>33</td>\n",
       "      <td>77</td>\n",
       "      <td>5</td>\n",
       "    </tr>\n",
       "    <tr>\n",
       "      <th>Man United</th>\n",
       "      <td>69</td>\n",
       "      <td>25</td>\n",
       "      <td>54</td>\n",
       "      <td>6</td>\n",
       "    </tr>\n",
       "    <tr>\n",
       "      <th>Everton</th>\n",
       "      <td>61</td>\n",
       "      <td>18</td>\n",
       "      <td>62</td>\n",
       "      <td>7</td>\n",
       "    </tr>\n",
       "    <tr>\n",
       "      <th>Southampton</th>\n",
       "      <td>46</td>\n",
       "      <td>-7</td>\n",
       "      <td>41</td>\n",
       "      <td>8</td>\n",
       "    </tr>\n",
       "    <tr>\n",
       "      <th>Bournemouth</th>\n",
       "      <td>46</td>\n",
       "      <td>-12</td>\n",
       "      <td>55</td>\n",
       "      <td>9</td>\n",
       "    </tr>\n",
       "    <tr>\n",
       "      <th>West Brom</th>\n",
       "      <td>45</td>\n",
       "      <td>-8</td>\n",
       "      <td>43</td>\n",
       "      <td>10</td>\n",
       "    </tr>\n",
       "    <tr>\n",
       "      <th>West Ham</th>\n",
       "      <td>45</td>\n",
       "      <td>-17</td>\n",
       "      <td>47</td>\n",
       "      <td>11</td>\n",
       "    </tr>\n",
       "    <tr>\n",
       "      <th>Leicester</th>\n",
       "      <td>44</td>\n",
       "      <td>-15</td>\n",
       "      <td>48</td>\n",
       "      <td>12</td>\n",
       "    </tr>\n",
       "    <tr>\n",
       "      <th>Stoke</th>\n",
       "      <td>44</td>\n",
       "      <td>-15</td>\n",
       "      <td>41</td>\n",
       "      <td>13</td>\n",
       "    </tr>\n",
       "    <tr>\n",
       "      <th>Crystal Palace</th>\n",
       "      <td>41</td>\n",
       "      <td>-13</td>\n",
       "      <td>50</td>\n",
       "      <td>14</td>\n",
       "    </tr>\n",
       "    <tr>\n",
       "      <th>Swansea</th>\n",
       "      <td>41</td>\n",
       "      <td>-25</td>\n",
       "      <td>45</td>\n",
       "      <td>15</td>\n",
       "    </tr>\n",
       "    <tr>\n",
       "      <th>Burnley</th>\n",
       "      <td>40</td>\n",
       "      <td>-16</td>\n",
       "      <td>39</td>\n",
       "      <td>16</td>\n",
       "    </tr>\n",
       "    <tr>\n",
       "      <th>Watford</th>\n",
       "      <td>40</td>\n",
       "      <td>-28</td>\n",
       "      <td>40</td>\n",
       "      <td>17</td>\n",
       "    </tr>\n",
       "    <tr>\n",
       "      <th>Hull</th>\n",
       "      <td>34</td>\n",
       "      <td>-43</td>\n",
       "      <td>37</td>\n",
       "      <td>18</td>\n",
       "    </tr>\n",
       "    <tr>\n",
       "      <th>Middlesbrough</th>\n",
       "      <td>28</td>\n",
       "      <td>-26</td>\n",
       "      <td>27</td>\n",
       "      <td>19</td>\n",
       "    </tr>\n",
       "    <tr>\n",
       "      <th>Sunderland</th>\n",
       "      <td>24</td>\n",
       "      <td>-40</td>\n",
       "      <td>29</td>\n",
       "      <td>20</td>\n",
       "    </tr>\n",
       "  </tbody>\n",
       "</table>\n",
       "</div>"
      ],
      "text/plain": [
       "                Points  GoalDifference  Goals  Finish\n",
       "Team                                                 \n",
       "Chelsea             93              52     85       1\n",
       "Tottenham           86              60     86       2\n",
       "Man City            78              41     80       3\n",
       "Liverpool           76              36     78       4\n",
       "Arsenal             75              33     77       5\n",
       "Man United          69              25     54       6\n",
       "Everton             61              18     62       7\n",
       "Southampton         46              -7     41       8\n",
       "Bournemouth         46             -12     55       9\n",
       "West Brom           45              -8     43      10\n",
       "West Ham            45             -17     47      11\n",
       "Leicester           44             -15     48      12\n",
       "Stoke               44             -15     41      13\n",
       "Crystal Palace      41             -13     50      14\n",
       "Swansea             41             -25     45      15\n",
       "Burnley             40             -16     39      16\n",
       "Watford             40             -28     40      17\n",
       "Hull                34             -43     37      18\n",
       "Middlesbrough       28             -26     27      19\n",
       "Sunderland          24             -40     29      20"
      ]
     },
     "execution_count": 257,
     "metadata": {},
     "output_type": "execute_result"
    }
   ],
   "source": [
    "final_table"
   ]
  },
  {
   "cell_type": "code",
   "execution_count": 251,
   "metadata": {},
   "outputs": [
    {
     "name": "stdout",
     "output_type": "stream",
     "text": [
      "Arsenal earned  75 points.\n"
     ]
    }
   ],
   "source": [
    "print(\"Arsenal earned \", get_points(\"Arsenal\", final_table), \"points.\")"
   ]
  },
  {
   "cell_type": "code",
   "execution_count": 252,
   "metadata": {},
   "outputs": [
    {
     "name": "stdout",
     "output_type": "stream",
     "text": [
      "Arsenal finished in  5 position.\n"
     ]
    }
   ],
   "source": [
    "print(\"Arsenal finished in \", get_finish(\"Arsenal\", final_table), \"position.\")"
   ]
  },
  {
   "cell_type": "code",
   "execution_count": 268,
   "metadata": {},
   "outputs": [
    {
     "data": {
      "image/png": "[encoded data removed]",
      "text/plain": [
       "<Figure size 720x720 with 1 Axes>"
      ]
     },
     "metadata": {},
     "output_type": "display_data"
    }
   ],
   "source": [
    "display_hbar(final_table)"
   ]
  },
  {
   "cell_type": "markdown",
   "metadata": {},
   "source": [
    "__Your Tests__\n",
    "\n",
    "This would be a great place to show some tests for errors, and also computing some interest values from various operations on the table, e.g.\n",
    "- Total number of goals scored.\n",
    "- Average number of goals scored for a set of teams.\n",
    "- etc."
   ]
  },
  {
   "cell_type": "markdown",
   "metadata": {},
   "source": [
    "__Comments__"
   ]
  },
  {
   "cell_type": "code",
   "execution_count": null,
   "metadata": {
    "collapsed": true
   },
   "outputs": [],
   "source": [
    "#problem 3\n",
    "import pandas as pd\n",
    "import matplotlib.pyplot as plt\n",
    "\n",
    "def load_epl_games(file_name):\n",
    "    file = pd.read_csv(file_name)\n",
    "    return file\n",
    "games = load_epl_games('epl2016.csv')\n",
    "\n",
    "def compute_table(df):\n",
    "    def score(df):\n",
    "        name = []   \n",
    "        finalscore = [] \n",
    "        for i in set(df['HomeTeam']):\n",
    "            score = 0\n",
    "            for j in range(len(df['HomeTeam'])):\n",
    "                if i == df['HomeTeam'][j]:\n",
    "                    if df['FTR'][j] == 'H':\n",
    "                       score = score + 3\n",
    "                    if df['FTR'][j] == 'D':\n",
    "                       score = score + 1\n",
    "            for k in range(len(df['AwayTeam'])):\n",
    "                if i == df['AwayTeam'][k]:\n",
    "                   if df['FTR'][k] == 'A':\n",
    "                       score = score + 3\n",
    "                   if df['FTR'][k] == 'D':\n",
    "                       score = score + 1\n",
    "            finalscore.append(score)\n",
    "            name.append(i)\n",
    "        return [name,finalscore]\n",
    "    def goal_and_loss(df):\n",
    "        finalgoal = []\n",
    "        finalloss = []\n",
    "        for i in set(df['HomeTeam']):\n",
    "            goal = 0 \n",
    "            loss = 0\n",
    "            for j in range(len(df['HomeTeam'])):\n",
    "                if i == df['HomeTeam'][j]:\n",
    "                    goal = goal + df['FTHG'][j]\n",
    "                    loss = loss + df['FTAG'][j]\n",
    "            for k in range(len(df['AwayTeam'])):\n",
    "                if i == df['AwayTeam'][k]:\n",
    "                    goal = goal + df['FTAG'][k]\n",
    "                    loss = loss + df['FTHG'][k]\n",
    "            finalgoal.append(goal)\n",
    "            finalloss.append(loss)\n",
    "        return [finalgoal,finalloss]\n",
    "    framedata = {'Points':score(df)[1],'GoalDifference':list(pd.Series(goal_and_loss(games)[0])-\n",
    "                  pd.Series(goal_and_loss(games)[1])),'Goals':goal_and_loss(df)[0],'Team':score(df)[0]}\n",
    "    table = pd.DataFrame(data=framedata)\n",
    "    table = table.set_index('Team')\n",
    "    table = table.sort_values(by=['Points','GoalDifference','Goals'],ascending = False)\n",
    "    table['Finish'] = range(1,21)\n",
    "    table = table[['Points','GoalDifference','Goals','Finish']]\n",
    "    return table\n",
    "\n",
    "final_table = compute_table(games)\n",
    "\n",
    "def get_points(team,table):\n",
    "    score = table.loc[team][0]\n",
    "    return score\n",
    "\n",
    "get_points('Arsenal',final_table)\n",
    "\n",
    "def get_finish(team,table):\n",
    "    position = table.loc[team][3]\n",
    "    return position\n",
    "\n",
    "get_finish('Arsenal',final_table)\n",
    "\n",
    "def display_hbar(tables):\n",
    "    ylabel = list(tables.index)\n",
    "    fig, ax = plt.subplots()\n",
    "    plt.yticks(range(20),ylabel,fontsize=10)\n",
    "    ax.barh(range(20),tables['Points'], alpha=0.6)\n",
    "    ax.invert_yaxis()\n",
    "    xtick = [0,10,20,30,40,50,60,70,80,90]\n",
    "    plt.xticks(xtick) \n",
    "    ax.set_xlabel('Points')\n",
    "    ax.set_ylabel('Team')\n",
    "    plt.grid(axis='x',linestyle='--',color='grey',linewidth=1.5)\n",
    "    plt.show()"
   ]
  }
 ],
 "metadata": {
  "kernelspec": {
   "display_name": "Python 3",
   "language": "python",
   "name": "python3"
  },
  "language_info": {
   "codemirror_mode": {
    "name": "ipython",
    "version": 3
   },
   "file_extension": ".py",
   "mimetype": "text/x-python",
   "name": "python",
   "nbconvert_exporter": "python",
   "pygments_lexer": "ipython3",
   "version": "3.6.4"
  },
  "toc": {
   "nav_menu": {},
   "number_sections": true,
   "sideBar": true,
   "skip_h1_title": false,
   "title_cell": "Table of Contents",
   "title_sidebar": "Contents",
   "toc_cell": false,
   "toc_position": {},
   "toc_section_display": true,
   "toc_window_display": false
  }
 },
 "nbformat": 4,
 "nbformat_minor": 2
}
